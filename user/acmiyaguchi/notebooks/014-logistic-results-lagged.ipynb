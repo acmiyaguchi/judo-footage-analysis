{
 "cells": [
  {
   "cell_type": "code",
   "execution_count": 2,
   "metadata": {},
   "outputs": [
    {
     "name": "stderr",
     "output_type": "stream",
     "text": [
      "Warning: Ignoring non-Spark config property: mem\n",
      "24/04/05 15:38:38 WARN Utils: Your hostname, gtlpc108.georgiatech-metz.fr resolves to a loopback address: 127.0.1.1; using 192.93.8.108 instead (on interface enp0s31f6)\n",
      "24/04/05 15:38:38 WARN Utils: Set SPARK_LOCAL_IP if you need to bind to another address\n",
      "Setting default log level to \"WARN\".\n",
      "To adjust logging level use sc.setLogLevel(newLevel). For SparkR, use setLogLevel(newLevel).\n",
      "24/04/05 15:38:39 WARN NativeCodeLoader: Unable to load native-hadoop library for your platform... using builtin-java classes where applicable\n",
      "24/04/05 15:38:39 WARN SparkConf: Note that spark.local.dir will be overridden by the value set by the cluster manager (via SPARK_LOCAL_DIRS in mesos/standalone/kubernetes and LOCAL_DIRS in YARN).\n"
     ]
    },
    {
     "data": {
      "text/html": [
       "\n",
       "            <div>\n",
       "                <p><b>SparkSession - in-memory</b></p>\n",
       "                \n",
       "        <div>\n",
       "            <p><b>SparkContext</b></p>\n",
       "\n",
       "            <p><a href=\"http://GTL-PC108.msad.georgiatech-metz.fr:4040\">Spark UI</a></p>\n",
       "\n",
       "            <dl>\n",
       "              <dt>Version</dt>\n",
       "                <dd><code>v3.5.1</code></dd>\n",
       "              <dt>Master</dt>\n",
       "                <dd><code>local[*]</code></dd>\n",
       "              <dt>AppName</dt>\n",
       "                <dd><code>spark-1712324314</code></dd>\n",
       "            </dl>\n",
       "        </div>\n",
       "        \n",
       "            </div>\n",
       "        "
      ],
      "text/plain": [
       "<pyspark.sql.session.SparkSession at 0x7f3b65da2500>"
      ]
     },
     "execution_count": 2,
     "metadata": {},
     "output_type": "execute_result"
    }
   ],
   "source": [
    "from judo_footage_analysis.utils import get_spark\n",
    "\n",
    "root = \"/cs-share/pradalier/tmp/judo\"\n",
    "\n",
    "spark = get_spark(cores=4, mem=\"1g\")\n",
    "spark"
   ]
  },
  {
   "cell_type": "code",
   "execution_count": 3,
   "metadata": {},
   "outputs": [
    {
     "name": "stdout",
     "output_type": "stream",
     "text": [
      "+--------------------+-----------+-----------+--------------------+-------------------+-------------+---------+------------------+--------------+----------+------------------+--------------------+--------------------+\n",
      "|         avg_metrics|      label|metric_name|         std_metrics|        test_metric|test_positive|test_size|         test_time|train_positive|train_size|        train_time|            filename|             feature|\n",
      "+--------------------+-----------+-----------+--------------------+-------------------+-------------+---------+------------------+--------------+----------+------------------+--------------------+--------------------+\n",
      "|[0.7217889872996653]|  is_active|         f1|[0.7217889872996653]|0.28322548531607766|           45|       90|1.2950853689981159|           238|       480|27.456793420002214|file:///cs-share/...|emb_entity_detect...|\n",
      "|[0.7118405659227064]|is_standing|         f1|[0.7118405659227064]| 0.9037475345167653|            3|       90|1.2139386659982847|           103|       480|25.822886023001047|file:///cs-share/...|emb_entity_detect...|\n",
      "|[0.8718357430823419]|is_standing|         f1|[0.8718357430823419]|0.20144566891811824|            2|       87| 4.369448732002638|           101|       464|141.08765862499422|file:///cs-share/...|emb_entity_detect...|\n",
      "|[0.7566284989030808]|  is_active|         f1|[0.7566284989030808]|0.35706228850733174|           45|       90|1.7548425409913762|           238|       480| 66.87238179500855|file:///cs-share/...|emb_entity_detect...|\n",
      "|[0.7764061241421268]|is_standing|         f1|[0.7764061241421268]| 0.8356019358741682|            2|       87| 0.961231259003398|           101|       464|23.078600091990666|file:///cs-share/...|emb_entity_detect...|\n",
      "|[0.7539501304882815]|is_standing|         f1|[0.7539501304882815]| 0.8220458553791886|            2|       81|0.9013709129940253|            98|       432|25.848813254997367|file:///cs-share/...|emb_entity_detect...|\n",
      "|[0.7952243778156176]|  is_active|         f1|[0.7952243778156176]|0.31859807801017526|           23|       45|1.2206002169987187|           130|       240| 18.86867275700206|file:///cs-share/...|emb_entity_detect...|\n",
      "|[0.7551260679763767]|is_standing|         f1|[0.7551260679763767]| 0.8750000000000001|            0|       45|1.1661373949900735|            74|       240|35.512045374009176|file:///cs-share/...|emb_entity_detect...|\n",
      "|[0.7813289655759924]|  is_active|         f1|[0.7813289655759924]|0.41846153846153844|           45|       90|0.9425022850045934|           238|       480| 85.84857387100055|file:///cs-share/...|emb_entity_detect...|\n",
      "|[0.8053966969037113]|is_standing|         f1|[0.8053966969037113]| 0.8501268846096431|            2|       87|2.0239816480025183|           101|       464| 23.02411655501055|file:///cs-share/...|emb_entity_detect...|\n",
      "|[0.7314491960342698]|  is_active|         f1|[0.7314491960342698]| 0.3914407454230463|           39|       81|1.6904498710064217|           219|       432|25.511581986007513|file:///cs-share/...|emb_entity_detect...|\n",
      "|[0.7490754925898218]|  is_active|         f1|[0.7490754925898218]| 0.3366715861972029|           34|       72|1.0381545609998284|           200|       384|24.561238466005307|file:///cs-share/...|emb_entity_detect...|\n",
      "|[0.8002064570192893]|is_standing|         f1|[0.8002064570192893]| 0.8837209302325582|            0|       72|0.9504396300035296|            98|       384|18.737331491996883|file:///cs-share/...|emb_entity_detect...|\n",
      "|[0.8444507753316431]|  is_active|         f1|[0.8444507753316431]|0.25555555555555554|           23|       45| 1.169487826002296|           130|       240|17.202901910000946|file:///cs-share/...|emb_entity_detect...|\n",
      "|[0.8378448135804285]|is_standing|         f1|[0.8378448135804285]| 0.7837837837837839|            0|       45|0.9966679909994127|            74|       240|16.921680995990755|file:///cs-share/...|emb_entity_detect...|\n",
      "|[0.8446157381846057]|is_standing|         f1|[0.8446157381846057]| 0.6410174372100464|            3|       90|0.9115464820060879|           103|       480| 83.40443973999936|file:///cs-share/...|emb_entity_detect...|\n",
      "|[0.7895659420361354]|is_standing|         f1|[0.7895659420361354]| 0.8389937106918238|            3|       90| 3.000852691999171|           103|       480| 69.79957916900457|file:///cs-share/...|emb_entity_detect...|\n",
      "|[0.7205502886571119]|  is_active|         f1|[0.7205502886571119]|  0.359026369168357|           43|       87|0.9852706240053521|           232|       464|23.543609772998025|file:///cs-share/...|emb_entity_detect...|\n",
      "|[0.7216578359378234]|  is_active|         f1|[0.7216578359378234]|  0.269983416252073|           39|       81|1.0768265200022142|           219|       432|26.438291578990174|file:///cs-share/...|emb_entity_detect...|\n",
      "|[0.7129518434485367]|  is_active|         f1|[0.7129518434485367]| 0.2925347222222222|           34|       72|1.0728180869919015|           200|       384| 26.79390802999842|file:///cs-share/...|emb_entity_detect...|\n",
      "+--------------------+-----------+-----------+--------------------+-------------------+-------------+---------+------------------+--------------+----------+------------------+--------------------+--------------------+\n",
      "only showing top 20 rows\n",
      "\n"
     ]
    }
   ],
   "source": [
    "from pyspark.sql import functions as F\n",
    "\n",
    "df = (\n",
    "    spark.read.json(\n",
    "        f\"{root}/models/evaluation_embeddings_logistic_binary/v3/*/*/perf/*.json\"\n",
    "    )\n",
    "    .withColumn(\"filename\", F.input_file_name())\n",
    "    .withColumn(\"feature\", F.split(F.col(\"filename\"), \"/\").getItem(10))\n",
    ")\n",
    "df.show()"
   ]
  },
  {
   "cell_type": "code",
   "execution_count": 19,
   "metadata": {},
   "outputs": [
    {
     "name": "stdout",
     "output_type": "stream",
     "text": [
      "+-----------+---+----------+--------------+---------+-------------+----------+---------+\n",
      "|      label|lag|train_size|train_positive|test_size|test_positive|train_rate|test_rate|\n",
      "+-----------+---+----------+--------------+---------+-------------+----------+---------+\n",
      "|  is_active|  0|       480|           238|       90|           45|       0.5|      0.5|\n",
      "|  is_active|  1|       464|           232|       87|           43|       0.5|     0.49|\n",
      "|  is_active|  2|       432|           219|       81|           39|      0.51|     0.48|\n",
      "|  is_active|  3|       384|           200|       72|           34|      0.52|     0.47|\n",
      "|  is_active|  5|       240|           130|       45|           23|      0.54|     0.51|\n",
      "|   is_match|  0|       480|           378|       90|           60|      0.79|     0.67|\n",
      "|   is_match|  1|       464|           367|       87|           58|      0.79|     0.67|\n",
      "|   is_match|  2|       432|           341|       81|           54|      0.79|     0.67|\n",
      "|   is_match|  3|       384|           305|       72|           48|      0.79|     0.67|\n",
      "|   is_match|  5|       240|           197|       45|           30|      0.82|     0.67|\n",
      "|is_standing|  0|       480|           103|       90|            3|      0.21|     0.03|\n",
      "|is_standing|  1|       464|           101|       87|            2|      0.22|     0.02|\n",
      "|is_standing|  2|       432|            98|       81|            2|      0.23|     0.02|\n",
      "|is_standing|  3|       384|            98|       72|            0|      0.26|      0.0|\n",
      "|is_standing|  5|       240|            74|       45|            0|      0.31|      0.0|\n",
      "+-----------+---+----------+--------------+---------+-------------+----------+---------+\n",
      "\n"
     ]
    }
   ],
   "source": [
    "df.select(\n",
    "    \"label\",\n",
    "    # get lag{n} from feature\n",
    "    F.coalesce(\n",
    "        F.regexp_extract(F.col(\"feature\"), r\"lag(\\d+)\", 1).cast(\"integer\"), F.lit(0)\n",
    "    ).alias(\"lag\"),\n",
    "    \"train_size\",\n",
    "    \"train_positive\",\n",
    "    \"test_size\",\n",
    "    \"test_positive\",\n",
    "    F.round(F.expr(\"train_positive / train_size\"), 2).alias(\"train_rate\"),\n",
    "    F.round(F.expr(\"test_positive / test_size\"), 2).alias(\"test_rate\"),\n",
    ").distinct().orderBy(\"label\", \"lag\").show()"
   ]
  },
  {
   "cell_type": "code",
   "execution_count": 20,
   "metadata": {},
   "outputs": [
    {
     "name": "stdout",
     "output_type": "stream",
     "text": [
      "+-----------+------------------------------------+------------+-------+----------+\n",
      "|label      |feature                             |avg_train_f1|test_f1|train_time|\n",
      "+-----------+------------------------------------+------------+-------+----------+\n",
      "|is_active  |emb_entity_detection_v2_lag1        |0.884       |0.592  |137       |\n",
      "|is_active  |emb_entity_detection_v2             |0.843       |0.575  |88        |\n",
      "|is_active  |emb_vanilla_yolov8n                 |0.843       |0.575  |82        |\n",
      "|is_active  |emb_entity_detection_v2_dct_d64     |0.796       |0.486  |95        |\n",
      "|is_active  |emb_entity_detection_v2_dct_d32     |0.781       |0.418  |85        |\n",
      "|is_active  |emb_entity_detection_v2_dct_d32_lag2|0.731       |0.391  |25        |\n",
      "|is_active  |emb_entity_detection_v2_dct_d16_lag1|0.721       |0.359  |23        |\n",
      "|is_active  |emb_entity_detection_v2_dct_d16     |0.757       |0.357  |66        |\n",
      "|is_active  |emb_entity_detection_v2_dct_d32_lag1|0.785       |0.346  |22        |\n",
      "|is_active  |emb_entity_detection_v2_dct_d32_lag3|0.749       |0.337  |24        |\n",
      "|is_active  |emb_entity_detection_v2_dct_d16_lag5|0.795       |0.319  |18        |\n",
      "|is_active  |emb_entity_detection_v2_dct_d16_lag3|0.713       |0.293  |26        |\n",
      "|is_active  |emb_entity_detection_v2_dct_d8      |0.722       |0.283  |27        |\n",
      "|is_active  |emb_entity_detection_v2_dct_d16_lag2|0.722       |0.27   |26        |\n",
      "|is_active  |emb_entity_detection_v2_dct_d32_lag5|0.844       |0.256  |17        |\n",
      "|is_match   |emb_entity_detection_v2_lag1        |0.967       |0.607  |139       |\n",
      "|is_match   |emb_entity_detection_v2_dct_d32_lag2|0.95        |0.587  |15        |\n",
      "|is_match   |emb_entity_detection_v2             |0.954       |0.582  |104       |\n",
      "|is_match   |emb_entity_detection_v2_dct_d64     |0.916       |0.582  |73        |\n",
      "|is_match   |emb_entity_detection_v2_dct_d32     |0.924       |0.582  |97        |\n",
      "|is_match   |emb_vanilla_yolov8n                 |0.954       |0.582  |84        |\n",
      "|is_match   |emb_entity_detection_v2_dct_d32_lag1|0.945       |0.57   |15        |\n",
      "|is_match   |emb_entity_detection_v2_dct_d16_lag2|0.877       |0.542  |39        |\n",
      "|is_match   |emb_entity_detection_v2_dct_d32_lag5|0.997       |0.533  |16        |\n",
      "|is_match   |emb_entity_detection_v2_dct_d32_lag3|0.944       |0.533  |17        |\n",
      "|is_match   |emb_entity_detection_v2_dct_d8      |0.893       |0.533  |33        |\n",
      "|is_match   |emb_entity_detection_v2_dct_d16_lag1|0.905       |0.511  |37        |\n",
      "|is_match   |emb_entity_detection_v2_dct_d16     |0.895       |0.506  |78        |\n",
      "|is_match   |emb_entity_detection_v2_dct_d16_lag3|0.861       |0.484  |20        |\n",
      "|is_match   |emb_entity_detection_v2_dct_d16_lag5|0.945       |0.438  |16        |\n",
      "|is_standing|emb_entity_detection_v2_dct_d8      |0.712       |0.904  |25        |\n",
      "|is_standing|emb_entity_detection_v2_dct_d32_lag3|0.8         |0.884  |18        |\n",
      "|is_standing|emb_entity_detection_v2_dct_d16_lag5|0.755       |0.875  |35        |\n",
      "|is_standing|emb_entity_detection_v2_dct_d32_lag1|0.805       |0.85   |23        |\n",
      "|is_standing|emb_entity_detection_v2_dct_d16_lag3|0.746       |0.848  |41        |\n",
      "|is_standing|emb_entity_detection_v2_dct_d16     |0.79        |0.839  |69        |\n",
      "|is_standing|emb_entity_detection_v2_dct_d16_lag1|0.776       |0.836  |23        |\n",
      "|is_standing|emb_entity_detection_v2_dct_d32     |0.809       |0.833  |83        |\n",
      "|is_standing|emb_entity_detection_v2_dct_d16_lag2|0.754       |0.822  |25        |\n",
      "|is_standing|emb_entity_detection_v2_dct_d32_lag2|0.819       |0.806  |22        |\n",
      "|is_standing|emb_entity_detection_v2_dct_d32_lag5|0.838       |0.784  |16        |\n",
      "|is_standing|emb_entity_detection_v2_dct_d64     |0.845       |0.641  |83        |\n",
      "|is_standing|emb_entity_detection_v2_lag1        |0.872       |0.201  |141       |\n",
      "|is_standing|emb_vanilla_yolov8n                 |0.856       |0.196  |81        |\n",
      "|is_standing|emb_entity_detection_v2             |0.856       |0.196  |81        |\n",
      "+-----------+------------------------------------+------------+-------+----------+\n",
      "\n"
     ]
    }
   ],
   "source": [
    "clean = df.select(\n",
    "    \"label\",\n",
    "    \"feature\",\n",
    "    F.round(F.col(\"avg_metrics\")[0], 3).alias(\"avg_train_f1\"),\n",
    "    F.round(\"test_metric\", 3).alias(\"test_f1\"),\n",
    "    F.col(\"train_time\").cast(\"integer\").alias(\"train_time\"),\n",
    ").orderBy(\"label\", F.desc(\"test_f1\"))\n",
    "\n",
    "clean.show(truncate=False, n=100)"
   ]
  },
  {
   "cell_type": "code",
   "execution_count": 24,
   "metadata": {},
   "outputs": [
    {
     "name": "stdout",
     "output_type": "stream",
     "text": [
      "+-----------+------------------------------------+------------+-------+----------+\n",
      "|label      |feature                             |avg_train_f1|test_f1|train_time|\n",
      "+-----------+------------------------------------+------------+-------+----------+\n",
      "|is_active  |emb_entity_detection_v2_dct_d16_lag1|0.721       |0.359  |23        |\n",
      "|is_active  |emb_entity_detection_v2_dct_d16     |0.757       |0.357  |66        |\n",
      "|is_active  |emb_entity_detection_v2_dct_d16_lag5|0.795       |0.319  |18        |\n",
      "|is_active  |emb_entity_detection_v2_dct_d16_lag3|0.713       |0.293  |26        |\n",
      "|is_active  |emb_entity_detection_v2_dct_d16_lag2|0.722       |0.27   |26        |\n",
      "|is_match   |emb_entity_detection_v2_dct_d16_lag2|0.877       |0.542  |39        |\n",
      "|is_match   |emb_entity_detection_v2_dct_d16_lag1|0.905       |0.511  |37        |\n",
      "|is_match   |emb_entity_detection_v2_dct_d16     |0.895       |0.506  |78        |\n",
      "|is_match   |emb_entity_detection_v2_dct_d16_lag3|0.861       |0.484  |20        |\n",
      "|is_match   |emb_entity_detection_v2_dct_d16_lag5|0.945       |0.438  |16        |\n",
      "|is_standing|emb_entity_detection_v2_dct_d16_lag5|0.755       |0.875  |35        |\n",
      "|is_standing|emb_entity_detection_v2_dct_d16_lag3|0.746       |0.848  |41        |\n",
      "|is_standing|emb_entity_detection_v2_dct_d16     |0.79        |0.839  |69        |\n",
      "|is_standing|emb_entity_detection_v2_dct_d16_lag1|0.776       |0.836  |23        |\n",
      "|is_standing|emb_entity_detection_v2_dct_d16_lag2|0.754       |0.822  |25        |\n",
      "+-----------+------------------------------------+------------+-------+----------+\n",
      "\n"
     ]
    }
   ],
   "source": [
    "clean.where(F.col(\"feature\").contains(\"dct_d16\")).show(truncate=False)"
   ]
  }
 ],
 "metadata": {
  "kernelspec": {
   "display_name": ".venv",
   "language": "python",
   "name": "python3"
  },
  "language_info": {
   "codemirror_mode": {
    "name": "ipython",
    "version": 3
   },
   "file_extension": ".py",
   "mimetype": "text/x-python",
   "name": "python",
   "nbconvert_exporter": "python",
   "pygments_lexer": "ipython3",
   "version": "3.10.12"
  }
 },
 "nbformat": 4,
 "nbformat_minor": 2
}
