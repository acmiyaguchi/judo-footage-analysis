{
 "cells": [
  {
   "cell_type": "code",
   "execution_count": 2,
   "metadata": {},
   "outputs": [
    {
     "name": "stderr",
     "output_type": "stream",
     "text": [
      "Warning: Ignoring non-Spark config property: mem\n",
      "24/04/04 19:01:04 WARN Utils: Your hostname, gtlpc106.georgiatech-metz.fr resolves to a loopback address: 127.0.1.1; using 192.93.8.106 instead (on interface enp0s31f6)\n",
      "24/04/04 19:01:04 WARN Utils: Set SPARK_LOCAL_IP if you need to bind to another address\n",
      "Setting default log level to \"WARN\".\n",
      "To adjust logging level use sc.setLogLevel(newLevel). For SparkR, use setLogLevel(newLevel).\n",
      "24/04/04 19:01:04 WARN NativeCodeLoader: Unable to load native-hadoop library for your platform... using builtin-java classes where applicable\n",
      "24/04/04 19:01:04 WARN SparkConf: Note that spark.local.dir will be overridden by the value set by the cluster manager (via SPARK_LOCAL_DIRS in mesos/standalone/kubernetes and LOCAL_DIRS in YARN).\n"
     ]
    },
    {
     "data": {
      "text/html": [
       "\n",
       "            <div>\n",
       "                <p><b>SparkSession - in-memory</b></p>\n",
       "                \n",
       "        <div>\n",
       "            <p><b>SparkContext</b></p>\n",
       "\n",
       "            <p><a href=\"http://GTL-PC106.msad.georgiatech-metz.fr:4040\">Spark UI</a></p>\n",
       "\n",
       "            <dl>\n",
       "              <dt>Version</dt>\n",
       "                <dd><code>v3.5.1</code></dd>\n",
       "              <dt>Master</dt>\n",
       "                <dd><code>local[4]</code></dd>\n",
       "              <dt>AppName</dt>\n",
       "                <dd><code>judo</code></dd>\n",
       "            </dl>\n",
       "        </div>\n",
       "        \n",
       "            </div>\n",
       "        "
      ],
      "text/plain": [
       "<pyspark.sql.session.SparkSession at 0x7f200977d570>"
      ]
     },
     "execution_count": 2,
     "metadata": {},
     "output_type": "execute_result"
    }
   ],
   "source": [
    "from judo_footage_analysis.utils import get_spark\n",
    "\n",
    "root = \"/cs-share/pradalier/tmp/judo\"\n",
    "\n",
    "spark = get_spark(cores=4, mem=\"1g\")\n",
    "spark"
   ]
  },
  {
   "cell_type": "code",
   "execution_count": 48,
   "metadata": {},
   "outputs": [
    {
     "name": "stdout",
     "output_type": "stream",
     "text": [
      "+--------------------+-----------+-----------+--------------------+-------------------+-------------+---------+------------------+--------------+----------+------------------+--------------------+--------------------+\n",
      "|         avg_metrics|      label|metric_name|         std_metrics|        test_metric|test_positive|test_size|         test_time|train_positive|train_size|        train_time|            filename|             feature|\n",
      "+--------------------+-----------+-----------+--------------------+-------------------+-------------+---------+------------------+--------------+----------+------------------+--------------------+--------------------+\n",
      "|[0.8372113080462782]|is_standing|         f1|[0.8372113080462782]|0.19610924055368498|            3|       90|0.8683209730079398|           103|       480|58.763832591008395|file:///cs-share/...|emb_entity_detect...|\n",
      "|[0.8372113080462782]|is_standing|         f1|[0.8372113080462782]|0.19610924055368498|            3|       90|0.7514391629956663|           103|       480| 57.41544589900877|file:///cs-share/...| emb_vanilla_yolov8n|\n",
      "|[0.7849091762884194]|is_standing|         f1|[0.7849091762884194]| 0.8389937106918238|            3|       90|0.8162812950322405|           103|       480| 45.43866774800699|file:///cs-share/...|emb_entity_detect...|\n",
      "|[0.8015495891330926]|  is_active|         f1|[0.8015495891330926]|0.41846153846153844|           45|       90|1.3115949629573151|           238|       480| 58.99981165805366|file:///cs-share/...|emb_entity_detect...|\n",
      "|[0.7826680018680369]|  is_active|         f1|[0.7826680018680369]| 0.4861778846153846|           45|       90|1.6093337880447507|           238|       480|60.854798703920096|file:///cs-share/...|emb_entity_detect...|\n",
      "|[0.7183815200547724]|  is_active|         f1|[0.7183815200547724]|0.28322548531607766|           45|       90|0.7236694219755009|           238|       480| 7.546793166082352|file:///cs-share/...|emb_entity_detect...|\n",
      "|[0.7094331152279799]|is_standing|         f1|[0.7094331152279799]| 0.9037475345167653|            3|       90|0.7271440040785819|           103|       480| 6.415889447089285|file:///cs-share/...|emb_entity_detect...|\n",
      "|[0.7183815200547724]|  is_active|         f1|[0.7183815200547724]|0.28322548531607766|           45|       90|0.5764871989376843|           238|       480| 6.742404891992919|file:///cs-share/...|emb_vanilla_yolov...|\n",
      "|[0.7456875904464706]|  is_active|         f1|[0.7456875904464706]|0.35706228850733174|           45|       90| 0.862184464931488|           238|       480| 45.26062857196666|file:///cs-share/...|emb_entity_detect...|\n",
      "|[0.8309258324434744]|is_standing|         f1|[0.8309258324434744]|  0.833119658119658|            3|       90|1.8385848930338398|           103|       480| 59.82299389701802|file:///cs-share/...|emb_entity_detect...|\n",
      "|[0.9307778383659162]|   is_match|         f1|[0.9307778383659162]| 0.5822072072072072|           60|       90|1.6857544309459627|           378|       480|57.683898470015265|file:///cs-share/...|emb_entity_detect...|\n",
      "|[0.9551855958751427]|   is_match|         f1|[0.9551855958751427]| 0.5822072072072072|           60|       90|0.7500269109150395|           378|       480|61.250435282010585|file:///cs-share/...| emb_vanilla_yolov8n|\n",
      "|[0.7094331152279799]|is_standing|         f1|[0.7094331152279799]| 0.9037475345167653|            3|       90| 1.255783531931229|           103|       480| 6.396039427025244|file:///cs-share/...|emb_vanilla_yolov...|\n",
      "|[0.9551855958751427]|   is_match|         f1|[0.9551855958751427]| 0.5822072072072072|           60|       90|1.0468922099098563|           378|       480| 74.22615062608384|file:///cs-share/...|emb_entity_detect...|\n",
      "|[0.9405857585599794]|   is_match|         f1|[0.9405857585599794]| 0.5822072072072072|           60|       90|0.8570680510019884|           378|       480| 58.70367624796927|file:///cs-share/...|emb_entity_detect...|\n",
      "| [0.841603336681699]|is_standing|         f1| [0.841603336681699]| 0.6507030067056025|            3|       90|1.3507434451021254|           103|       480| 59.40376679506153|file:///cs-share/...|emb_entity_detect...|\n",
      "|[0.9036873410606295]|   is_match|         f1|[0.9036873410606295]| 0.5333333333333333|           60|       90|0.6440369919873774|           378|       480| 8.141795182949863|file:///cs-share/...|emb_vanilla_yolov...|\n",
      "|[0.9068363657757742]|   is_match|         f1|[0.9068363657757742]| 0.5057471264367815|           60|       90|1.1023855480598286|           378|       480|  63.9615734469844|file:///cs-share/...|emb_entity_detect...|\n",
      "|[0.9036873410606295]|   is_match|         f1|[0.9036873410606295]| 0.5333333333333333|           60|       90| 0.703107769950293|           378|       480| 7.991354212979786|file:///cs-share/...|emb_entity_detect...|\n",
      "|[0.8352326586401735]|  is_active|         f1|[0.8352326586401735]|              0.575|           45|       90|0.8077835190342739|           238|       480|58.642267804942094|file:///cs-share/...| emb_vanilla_yolov8n|\n",
      "+--------------------+-----------+-----------+--------------------+-------------------+-------------+---------+------------------+--------------+----------+------------------+--------------------+--------------------+\n",
      "only showing top 20 rows\n",
      "\n"
     ]
    }
   ],
   "source": [
    "from pyspark.sql import functions as F\n",
    "\n",
    "df = (\n",
    "    spark.read.json(\n",
    "        f\"{root}/models/evaluation_embeddings_logistic_binary/v2/*/*/perf/*.json\"\n",
    "    )\n",
    "    .withColumn(\"filename\", F.input_file_name())\n",
    "    .withColumn(\"feature\", F.split(F.col(\"filename\"), \"/\").getItem(10))\n",
    ")\n",
    "df.show()"
   ]
  },
  {
   "cell_type": "code",
   "execution_count": 49,
   "metadata": {},
   "outputs": [
    {
     "name": "stdout",
     "output_type": "stream",
     "text": [
      "+-----------+----------+--------------+---------+-------------+\n",
      "|      label|train_size|train_positive|test_size|test_positive|\n",
      "+-----------+----------+--------------+---------+-------------+\n",
      "|  is_active|       480|           238|       90|           45|\n",
      "|is_standing|       480|           103|       90|            3|\n",
      "|   is_match|       480|           378|       90|           60|\n",
      "+-----------+----------+--------------+---------+-------------+\n",
      "\n"
     ]
    }
   ],
   "source": [
    "df.select(\n",
    "    \"label\", \"train_size\", \"train_positive\", \"test_size\", \"test_positive\"\n",
    ").distinct().show()"
   ]
  },
  {
   "cell_type": "code",
   "execution_count": 51,
   "metadata": {},
   "outputs": [
    {
     "name": "stdout",
     "output_type": "stream",
     "text": [
      "+-----------+-------------------------------+------------+-------+----------+\n",
      "|label      |feature                        |avg_train_f1|test_f1|train_time|\n",
      "+-----------+-------------------------------+------------+-------+----------+\n",
      "|is_active  |emb_vanilla_yolov8n            |0.835       |0.575  |58        |\n",
      "|is_active  |emb_entity_detection_v2        |0.835       |0.575  |63        |\n",
      "|is_active  |emb_entity_detection_v2_dct_d64|0.783       |0.486  |60        |\n",
      "|is_active  |emb_entity_detection_v2_dct_d32|0.802       |0.418  |58        |\n",
      "|is_active  |emb_entity_detection_v2_dct_d16|0.746       |0.357  |45        |\n",
      "|is_active  |emb_entity_detection_v2_dct_d8 |0.718       |0.283  |7         |\n",
      "|is_active  |emb_vanilla_yolov8n_dct_d8     |0.718       |0.283  |6         |\n",
      "|is_match   |emb_entity_detection_v2        |0.955       |0.582  |74        |\n",
      "|is_match   |emb_entity_detection_v2_dct_d64|0.931       |0.582  |57        |\n",
      "|is_match   |emb_entity_detection_v2_dct_d32|0.941       |0.582  |58        |\n",
      "|is_match   |emb_vanilla_yolov8n            |0.955       |0.582  |61        |\n",
      "|is_match   |emb_vanilla_yolov8n_dct_d8     |0.904       |0.533  |8         |\n",
      "|is_match   |emb_entity_detection_v2_dct_d8 |0.904       |0.533  |7         |\n",
      "|is_match   |emb_entity_detection_v2_dct_d16|0.907       |0.506  |63        |\n",
      "|is_standing|emb_entity_detection_v2_dct_d8 |0.709       |0.904  |6         |\n",
      "|is_standing|emb_vanilla_yolov8n_dct_d8     |0.709       |0.904  |6         |\n",
      "|is_standing|emb_entity_detection_v2_dct_d16|0.785       |0.839  |45        |\n",
      "|is_standing|emb_entity_detection_v2_dct_d32|0.831       |0.833  |59        |\n",
      "|is_standing|emb_entity_detection_v2_dct_d64|0.842       |0.651  |59        |\n",
      "|is_standing|emb_entity_detection_v2        |0.837       |0.196  |58        |\n",
      "|is_standing|emb_vanilla_yolov8n            |0.837       |0.196  |57        |\n",
      "+-----------+-------------------------------+------------+-------+----------+\n",
      "\n"
     ]
    }
   ],
   "source": [
    "df.select(\n",
    "    \"label\",\n",
    "    \"feature\",\n",
    "    F.round(F.col(\"avg_metrics\")[0], 3).alias(\"avg_train_f1\"),\n",
    "    F.round(\"test_metric\", 3).alias(\"test_f1\"),\n",
    "    F.col(\"train_time\").cast(\"integer\").alias(\"train_time\"),\n",
    ").orderBy(\"label\", F.desc(\"test_f1\")).show(truncate=False, n=100)"
   ]
  }
 ],
 "metadata": {
  "kernelspec": {
   "display_name": ".venv",
   "language": "python",
   "name": "python3"
  },
  "language_info": {
   "codemirror_mode": {
    "name": "ipython",
    "version": 3
   },
   "file_extension": ".py",
   "mimetype": "text/x-python",
   "name": "python",
   "nbconvert_exporter": "python",
   "pygments_lexer": "ipython3",
   "version": "3.10.12"
  }
 },
 "nbformat": 4,
 "nbformat_minor": 2
}
