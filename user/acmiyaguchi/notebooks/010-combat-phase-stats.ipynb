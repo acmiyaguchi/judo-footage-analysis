{
 "cells": [
  {
   "cell_type": "code",
   "execution_count": 4,
   "metadata": {},
   "outputs": [
    {
     "name": "stdout",
     "output_type": "stream",
     "text": [
      "root\n",
      " |-- file: string (nullable = true)\n",
      " |-- is_active: long (nullable = true)\n",
      " |-- is_match: long (nullable = true)\n",
      " |-- is_standing: long (nullable = true)\n",
      " |-- time: long (nullable = true)\n",
      "\n",
      "+--------------------------+---------+--------+-----------+----+\n",
      "|file                      |is_active|is_match|is_standing|time|\n",
      "+--------------------------+---------+--------+-----------+----+\n",
      "|data/clips/mat_01/0002.mp4|0        |1       |0          |0   |\n",
      "|data/clips/mat_01/0002.mp4|0        |1       |0          |1   |\n",
      "|data/clips/mat_01/0002.mp4|0        |1       |0          |2   |\n",
      "|data/clips/mat_01/0002.mp4|0        |1       |0          |3   |\n",
      "|data/clips/mat_01/0002.mp4|0        |1       |0          |4   |\n",
      "|data/clips/mat_01/0002.mp4|0        |1       |0          |5   |\n",
      "|data/clips/mat_01/0002.mp4|1        |1       |1          |6   |\n",
      "|data/clips/mat_01/0002.mp4|1        |1       |1          |7   |\n",
      "|data/clips/mat_01/0002.mp4|1        |1       |1          |8   |\n",
      "|data/clips/mat_01/0002.mp4|1        |1       |1          |9   |\n",
      "+--------------------------+---------+--------+-----------+----+\n",
      "only showing top 10 rows\n",
      "\n"
     ]
    },
    {
     "name": "stderr",
     "output_type": "stream",
     "text": [
      "24/04/04 01:00:24 WARN SparkSession: Using an existing Spark session; only runtime SQL configurations will take effect.\n"
     ]
    }
   ],
   "source": [
    "from judo_footage_analysis.utils import get_spark\n",
    "\n",
    "root = \"/cs-share/pradalier/tmp/judo\"\n",
    "\n",
    "spark = get_spark(cores=4, mem=\"1g\")\n",
    "labels = spark.read.json(\n",
    "    f\"{root}/data/combat_phase/discrete_v2/labels.json\", multiLine=True\n",
    ")\n",
    "labels.printSchema()\n",
    "labels.show(truncate=False, n=10)"
   ]
  },
  {
   "cell_type": "code",
   "execution_count": 5,
   "metadata": {},
   "outputs": [
    {
     "data": {
      "text/plain": [
       "19"
      ]
     },
     "execution_count": 5,
     "metadata": {},
     "output_type": "execute_result"
    }
   ],
   "source": [
    "labels.select(\"file\").distinct().count()"
   ]
  },
  {
   "cell_type": "code",
   "execution_count": 10,
   "metadata": {},
   "outputs": [
    {
     "name": "stdout",
     "output_type": "stream",
     "text": [
      "+-------+------------------+-------------------+-------------------+\n",
      "|summary|         is_active|           is_match|        is_standing|\n",
      "+-------+------------------+-------------------+-------------------+\n",
      "|  count|               570|                570|                570|\n",
      "|   mean|0.4964912280701754| 0.7684210526315789|0.18596491228070175|\n",
      "| stddev| 0.500426851990946|0.42221189040527146| 0.3894200981285407|\n",
      "|    min|                 0|                  0|                  0|\n",
      "|    max|                 1|                  1|                  1|\n",
      "+-------+------------------+-------------------+-------------------+\n",
      "\n"
     ]
    }
   ],
   "source": [
    "labels.drop(\"file\", \"time\").describe().show()"
   ]
  },
  {
   "cell_type": "code",
   "execution_count": 15,
   "metadata": {},
   "outputs": [
    {
     "name": "stdout",
     "output_type": "stream",
     "text": [
      "+--------+---------+-----------+-----+\n",
      "|is_match|is_active|is_standing|count|\n",
      "+--------+---------+-----------+-----+\n",
      "|       1|        1|          1|  106|\n",
      "|       1|        1|          0|  177|\n",
      "|       1|        0|          0|  155|\n",
      "|       0|        0|          0|  132|\n",
      "+--------+---------+-----------+-----+\n",
      "\n"
     ]
    }
   ],
   "source": [
    "cols = [\"is_match\", \"is_active\", \"is_standing\"]\n",
    "labels.groupBy(*cols).count().orderBy(*cols, ascending=False).show()"
   ]
  },
  {
   "cell_type": "code",
   "execution_count": 20,
   "metadata": {},
   "outputs": [
    {
     "name": "stdout",
     "output_type": "stream",
     "text": [
      "+---------+----------+------------+\n",
      "|pct_match|pct_active|pct_standing|\n",
      "+---------+----------+------------+\n",
      "|    0.768|     0.646|       0.242|\n",
      "+---------+----------+------------+\n",
      "\n"
     ]
    }
   ],
   "source": [
    "from pyspark.sql import functions as F\n",
    "\n",
    "labels.select(\n",
    "    F.round(F.sum(\"is_match\") / F.count(\"*\"), 3).alias(\"pct_match\"),\n",
    "    F.round(F.sum(\"is_active\") / F.sum(\"is_match\"), 3).alias(\"pct_active\"),\n",
    "    F.round(F.sum(\"is_standing\") / F.sum(\"is_match\"), 3).alias(\"pct_standing\"),\n",
    ").show()"
   ]
  }
 ],
 "metadata": {
  "kernelspec": {
   "display_name": "Python 3",
   "language": "python",
   "name": "python3"
  },
  "language_info": {
   "codemirror_mode": {
    "name": "ipython",
    "version": 3
   },
   "file_extension": ".py",
   "mimetype": "text/x-python",
   "name": "python",
   "nbconvert_exporter": "python",
   "pygments_lexer": "ipython3",
   "version": "3.10.12"
  }
 },
 "nbformat": 4,
 "nbformat_minor": 2
}
