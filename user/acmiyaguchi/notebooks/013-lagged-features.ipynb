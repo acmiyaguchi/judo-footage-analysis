{
 "cells": [
  {
   "cell_type": "code",
   "execution_count": 1,
   "metadata": {},
   "outputs": [
    {
     "name": "stderr",
     "output_type": "stream",
     "text": [
      "24/04/05 13:32:59 WARN Utils: Your hostname, gtlpc108.georgiatech-metz.fr resolves to a loopback address: 127.0.1.1; using 192.93.8.108 instead (on interface enp0s31f6)\n",
      "24/04/05 13:32:59 WARN Utils: Set SPARK_LOCAL_IP if you need to bind to another address\n",
      "Setting default log level to \"WARN\".\n",
      "To adjust logging level use sc.setLogLevel(newLevel). For SparkR, use setLogLevel(newLevel).\n",
      "24/04/05 13:33:00 WARN NativeCodeLoader: Unable to load native-hadoop library for your platform... using builtin-java classes where applicable\n",
      "24/04/05 13:33:00 WARN SparkConf: Note that spark.local.dir will be overridden by the value set by the cluster manager (via SPARK_LOCAL_DIRS in mesos/standalone/kubernetes and LOCAL_DIRS in YARN).\n"
     ]
    },
    {
     "data": {
      "text/html": [
       "\n",
       "            <div>\n",
       "                <p><b>SparkSession - in-memory</b></p>\n",
       "                \n",
       "        <div>\n",
       "            <p><b>SparkContext</b></p>\n",
       "\n",
       "            <p><a href=\"http://GTL-PC108.msad.georgiatech-metz.fr:4040\">Spark UI</a></p>\n",
       "\n",
       "            <dl>\n",
       "              <dt>Version</dt>\n",
       "                <dd><code>v3.5.1</code></dd>\n",
       "              <dt>Master</dt>\n",
       "                <dd><code>local[16]</code></dd>\n",
       "              <dt>AppName</dt>\n",
       "                <dd><code>judo</code></dd>\n",
       "            </dl>\n",
       "        </div>\n",
       "        \n",
       "            </div>\n",
       "        "
      ],
      "text/plain": [
       "<pyspark.sql.session.SparkSession at 0x7fb1bc42d990>"
      ]
     },
     "execution_count": 1,
     "metadata": {},
     "output_type": "execute_result"
    }
   ],
   "source": [
    "from judo_footage_analysis.utils import get_spark\n",
    "\n",
    "root = \"/cs-share/pradalier/tmp/judo\"\n",
    "\n",
    "spark = get_spark()\n",
    "spark"
   ]
  },
  {
   "cell_type": "code",
   "execution_count": 2,
   "metadata": {},
   "outputs": [
    {
     "name": "stderr",
     "output_type": "stream",
     "text": [
      "                                                                                \r"
     ]
    },
    {
     "name": "stdout",
     "output_type": "stream",
     "text": [
      "root\n",
      " |-- file: string (nullable = true)\n",
      " |-- time: long (nullable = true)\n",
      " |-- is_active: long (nullable = true)\n",
      " |-- is_match: long (nullable = true)\n",
      " |-- is_standing: long (nullable = true)\n",
      " |-- emb_entity_detection_v2: vector (nullable = true)\n",
      " |-- emb_entity_detection_v2_dct: vector (nullable = true)\n",
      " |-- emb_entity_detection_v2_dct_d8: vector (nullable = true)\n",
      " |-- emb_vanilla_yolov8n: vector (nullable = true)\n",
      " |-- emb_vanilla_yolov8n_dct: vector (nullable = true)\n",
      " |-- emb_vanilla_yolov8n_dct_d8: vector (nullable = true)\n",
      "\n"
     ]
    },
    {
     "name": "stderr",
     "output_type": "stream",
     "text": [
      "                                                                                \r"
     ]
    },
    {
     "name": "stdout",
     "output_type": "stream",
     "text": [
      "+--------------------+----+---------+--------+-----------+-----------------------+---------------------------+------------------------------+--------------------+-----------------------+--------------------------+\n",
      "|                file|time|is_active|is_match|is_standing|emb_entity_detection_v2|emb_entity_detection_v2_dct|emb_entity_detection_v2_dct_d8| emb_vanilla_yolov8n|emb_vanilla_yolov8n_dct|emb_vanilla_yolov8n_dct_d8|\n",
      "+--------------------+----+---------+--------+-----------+-----------------------+---------------------------+------------------------------+--------------------+-----------------------+--------------------------+\n",
      "|data/clips/mat_01...|   4|        0|       0|          0|   [-12.463060379028...|       [-1822.2849139964...|          [-1822.2849139964...|[-12.463060379028...|   [-1822.2849139964...|      [-1822.2849139964...|\n",
      "|data/clips/mat_01...|   7|        0|       0|          0|   [-12.700770378112...|       [-1819.9931834956...|          [-1819.9931834956...|[-12.700770378112...|   [-1819.9931834956...|      [-1819.9931834956...|\n",
      "|data/clips/mat_01...|  14|        0|       0|          0|   [-12.180630683898...|       [-1808.7074782590...|          [-1808.7074782590...|[-12.180630683898...|   [-1808.7074782590...|      [-1808.7074782590...|\n",
      "|data/clips/mat_01...|  15|        0|       0|          0|   [-12.265459060668...|       [-1800.6879016558...|          [-1800.6879016558...|[-12.265459060668...|   [-1800.6879016558...|      [-1800.6879016558...|\n",
      "|data/clips/mat_01...|  21|        0|       0|          0|   [-12.603598594665...|       [-1809.3216634623...|          [-1809.3216634623...|[-12.603598594665...|   [-1809.3216634623...|      [-1809.3216634623...|\n",
      "|data/clips/mat_01...|   6|        0|       0|          0|   [-12.623376846313...|       [-1818.3184746335...|          [-1818.3184746335...|[-12.623376846313...|   [-1818.3184746335...|      [-1818.3184746335...|\n",
      "|data/clips/mat_01...|  10|        0|       0|          0|   [-12.383249282836...|       [-1813.6671849767...|          [-1813.6671849767...|[-12.383249282836...|   [-1813.6671849767...|      [-1813.6671849767...|\n",
      "|data/clips/mat_01...|  16|        0|       0|          0|   [-13.857249259948...|       [-1826.2952104592...|          [-1826.2952104592...|[-13.857249259948...|   [-1826.2952104592...|      [-1826.2952104592...|\n",
      "|data/clips/mat_01...|  28|        1|       1|          1|   [-12.578151702880...|       [-1818.6638758285...|          [-1818.6638758285...|[-12.578151702880...|   [-1818.6638758285...|      [-1818.6638758285...|\n",
      "|data/clips/mat_01...|  29|        1|       1|          1|   [-12.374054908752...|       [-1833.4361520602...|          [-1833.4361520602...|[-12.374054908752...|   [-1833.4361520602...|      [-1833.4361520602...|\n",
      "|data/clips/mat_02...|  19|        1|       1|          0|   [-11.451999664306...|       [-1820.7467926337...|          [-1820.7467926337...|[-11.451999664306...|   [-1820.7467926337...|      [-1820.7467926337...|\n",
      "|data/clips/mat_02...|  26|        1|       1|          0|   [-11.397533416748...|       [-1798.7095749600...|          [-1798.7095749600...|[-11.397533416748...|   [-1798.7095749600...|      [-1798.7095749600...|\n",
      "|data/clips/mat_02...|  23|        1|       1|          0|   [-11.584328651428...|       [-1808.8983269189...|          [-1808.8983269189...|[-11.584328651428...|   [-1808.8983269189...|      [-1808.8983269189...|\n",
      "|data/clips/mat_03...|  26|        1|       1|          1|   [-12.445702552795...|       [-1823.6392005836...|          [-1823.6392005836...|[-12.445702552795...|   [-1823.6392005836...|      [-1823.6392005836...|\n",
      "|data/clips/mat_03...|  18|        1|       1|          0|   [-12.584854125976...|       [-1810.5446520903...|          [-1810.5446520903...|[-12.584854125976...|   [-1810.5446520903...|      [-1810.5446520903...|\n",
      "|data/clips/mat_03...|  21|        1|       1|          0|   [-12.484706878662...|       [-1822.1037582609...|          [-1822.1037582609...|[-12.484706878662...|   [-1822.1037582609...|      [-1822.1037582609...|\n",
      "|data/clips/mat_04...|   8|        0|       1|          0|   [-12.380244255065...|       [-1818.6006852438...|          [-1818.6006852438...|[-12.380244255065...|   [-1818.6006852438...|      [-1818.6006852438...|\n",
      "|data/clips/mat_04...|  18|        1|       1|          0|   [-12.496183395385...|       [-1805.0462303977...|          [-1805.0462303977...|[-12.496183395385...|   [-1805.0462303977...|      [-1805.0462303977...|\n",
      "|data/clips/mat_04...|  12|        1|       1|          1|   [-12.281360626220...|       [-1784.0663750910...|          [-1784.0663750910...|[-12.281360626220...|   [-1784.0663750910...|      [-1784.0663750910...|\n",
      "|data/clips/mat_04...|  13|        1|       1|          1|   [-12.195487976074...|       [-1798.4905287256...|          [-1798.4905287256...|[-12.195487976074...|   [-1798.4905287256...|      [-1798.4905287256...|\n",
      "+--------------------+----+---------+--------+-----------+-----------------------+---------------------------+------------------------------+--------------------+-----------------------+--------------------------+\n",
      "only showing top 20 rows\n",
      "\n"
     ]
    }
   ],
   "source": [
    "from pyspark.sql import functions as F\n",
    "\n",
    "df = spark.read.parquet(f\"{root}/data/evaluation_embeddings/v2\").cache()\n",
    "df.printSchema()\n",
    "df.show()"
   ]
  },
  {
   "cell_type": "code",
   "execution_count": 12,
   "metadata": {},
   "outputs": [
    {
     "name": "stdout",
     "output_type": "stream",
     "text": [
      "+--------------------+----+--------------------+--------------------+--------------------+--------------------+\n",
      "|                file|time|                lag0|                lag1|                lag2|                lag3|\n",
      "+--------------------+----+--------------------+--------------------+--------------------+--------------------+\n",
      "|data/clips/mat_01...|   0|[-1821.6943279371...|                NULL|                NULL|                NULL|\n",
      "|data/clips/mat_01...|   1|[-1822.6560198885...|[-1821.6943279371...|                NULL|                NULL|\n",
      "|data/clips/mat_01...|   2|[-1810.5051809256...|[-1822.6560198885...|[-1821.6943279371...|                NULL|\n",
      "|data/clips/mat_01...|   3|[-1814.6923456057...|[-1810.5051809256...|[-1822.6560198885...|[-1821.6943279371...|\n",
      "|data/clips/mat_01...|   4|[-1822.2849139964...|[-1814.6923456057...|[-1810.5051809256...|[-1822.6560198885...|\n",
      "|data/clips/mat_01...|   5|[-1810.0977286660...|[-1822.2849139964...|[-1814.6923456057...|[-1810.5051809256...|\n",
      "|data/clips/mat_01...|   6|[-1807.6955498413...|[-1810.0977286660...|[-1822.2849139964...|[-1814.6923456057...|\n",
      "|data/clips/mat_01...|   7|[-1819.9931834956...|[-1807.6955498413...|[-1810.0977286660...|[-1822.2849139964...|\n",
      "|data/clips/mat_01...|   8|[-1816.6014866221...|[-1819.9931834956...|[-1807.6955498413...|[-1810.0977286660...|\n",
      "|data/clips/mat_01...|   9|[-1835.7414091665...|[-1816.6014866221...|[-1819.9931834956...|[-1807.6955498413...|\n",
      "|data/clips/mat_01...|  10|[-1815.3471080891...|[-1835.7414091665...|[-1816.6014866221...|[-1819.9931834956...|\n",
      "|data/clips/mat_01...|  11|[-1823.9646680458...|[-1815.3471080891...|[-1835.7414091665...|[-1816.6014866221...|\n",
      "|data/clips/mat_01...|  12|[-1820.7782836640...|[-1823.9646680458...|[-1815.3471080891...|[-1835.7414091665...|\n",
      "|data/clips/mat_01...|  13|[-1814.8015326298...|[-1820.7782836640...|[-1823.9646680458...|[-1815.3471080891...|\n",
      "|data/clips/mat_01...|  14|[-1808.7074782590...|[-1814.8015326298...|[-1820.7782836640...|[-1823.9646680458...|\n",
      "|data/clips/mat_01...|  15|[-1800.6879016558...|[-1808.7074782590...|[-1814.8015326298...|[-1820.7782836640...|\n",
      "|data/clips/mat_01...|  16|[-1826.6718372450...|[-1800.6879016558...|[-1808.7074782590...|[-1814.8015326298...|\n",
      "|data/clips/mat_01...|  17|[-1840.7037596718...|[-1826.6718372450...|[-1800.6879016558...|[-1808.7074782590...|\n",
      "|data/clips/mat_01...|  18|[-1823.8252368774...|[-1840.7037596718...|[-1826.6718372450...|[-1800.6879016558...|\n",
      "|data/clips/mat_01...|  19|[-1832.1645755004...|[-1823.8252368774...|[-1840.7037596718...|[-1826.6718372450...|\n",
      "+--------------------+----+--------------------+--------------------+--------------------+--------------------+\n",
      "only showing top 20 rows\n",
      "\n"
     ]
    }
   ],
   "source": [
    "# let's create time lagged features for each embedding\n",
    "from pyspark.sql import Window, functions as F\n",
    "\n",
    "window = Window.partitionBy(\"file\").orderBy(\"time\")\n",
    "lagged = (\n",
    "    df.withColumn(\"lag0\", F.lag(\"emb_entity_detection_v2_dct_d8\", 0).over(window))\n",
    "    .withColumn(\"lag1\", F.lag(\"emb_entity_detection_v2_dct_d8\", 1).over(window))\n",
    "    .withColumn(\"lag2\", F.lag(\"emb_entity_detection_v2_dct_d8\", 2).over(window))\n",
    "    .withColumn(\"lag3\", F.lag(\"emb_entity_detection_v2_dct_d8\", 3).over(window))\n",
    ").select(\"file\", \"time\", \"lag0\", \"lag1\", \"lag2\", \"lag3\")\n",
    "lagged.show()"
   ]
  },
  {
   "cell_type": "code",
   "execution_count": 13,
   "metadata": {},
   "outputs": [
    {
     "data": {
      "text/plain": [
       "(570, 513)"
      ]
     },
     "execution_count": 13,
     "metadata": {},
     "output_type": "execute_result"
    }
   ],
   "source": [
    "# only keep rows where there are no nulls\n",
    "lagged.count(), lagged.filter(F.col(\"lag3\").isNotNull()).count()"
   ]
  },
  {
   "cell_type": "code",
   "execution_count": 14,
   "metadata": {},
   "outputs": [],
   "source": [
    "spark.stop()"
   ]
  }
 ],
 "metadata": {
  "kernelspec": {
   "display_name": ".venv",
   "language": "python",
   "name": "python3"
  },
  "language_info": {
   "codemirror_mode": {
    "name": "ipython",
    "version": 3
   },
   "file_extension": ".py",
   "mimetype": "text/x-python",
   "name": "python",
   "nbconvert_exporter": "python",
   "pygments_lexer": "ipython3",
   "version": "3.10.12"
  }
 },
 "nbformat": 4,
 "nbformat_minor": 2
}
