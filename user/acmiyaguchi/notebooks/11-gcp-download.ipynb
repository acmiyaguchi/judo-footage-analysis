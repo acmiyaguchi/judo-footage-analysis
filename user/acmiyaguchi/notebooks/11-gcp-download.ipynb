{
 "cells": [
  {
   "cell_type": "markdown",
   "id": "35963382-5665-48dd-8976-f1b6e77338de",
   "metadata": {},
   "source": [
    "# test video truncated gcp download\n",
    "\n",
    "The purpose of this notebook is to truncate two of the videos to be used as a testing dataset. We choose a video with and without the smoothcomp overlay which will have different properties. We choose a 10 minute segment that is an hour into the video.\n",
    "\n",
    "The lab VMs are not being cooperative right now, so instead I'm working on a GCP instance. "
   ]
  },
  {
   "cell_type": "code",
   "execution_count": 2,
   "id": "bcecae41",
   "metadata": {},
   "outputs": [],
   "source": [
    "data_path = \"/home/anthony/judo\""
   ]
  },
  {
   "cell_type": "code",
   "execution_count": 4,
   "id": "6817b897",
   "metadata": {},
   "outputs": [
    {
     "name": "stderr",
     "output_type": "stream",
     "text": [
      "297.38s - pydevd: Sending message related to process being replaced timed-out after 5 seconds\n",
      "303.30s - pydevd: Sending message related to process being replaced timed-out after 5 seconds\n"
     ]
    },
    {
     "name": "stdout",
     "output_type": "stream",
     "text": [
      "\n",
      "01/16 11:58:16 [\u001b[1;32mNOTICE\u001b[0m] Downloading 1 item(s)\n",
      "\n",
      "01/16 11:58:17 [\u001b[1;32mNOTICE\u001b[0m] File already exists. Renamed to /home/anthony/judo/raw/[Mat+2]+2023+President's+Cup+[Nh_cb1RNV9o].1.mp4.\n",
      "\u001b[35m[\u001b[0m#d6fa45 190MiB/5.1GiB\u001b[36m(3%)\u001b[0m CN:1 DL:\u001b[32m37MiB\u001b[0m ETA:\u001b[33m2m15s\u001b[0m\u001b[35m]\u001b[0m\u001b[0m0m^C\n",
      "\n",
      "01/16 11:58:22 [\u001b[1;32mNOTICE\u001b[0m] Shutdown sequence commencing... Press Ctrl-C again for emergency shutdown.\n",
      "\n",
      "01/16 11:58:22 [\u001b[1;32mNOTICE\u001b[0m] Download GID#d6fa45b5b4445006 not complete: /home/anthony/judo/raw/[Mat+2]+2023+President's+Cup+[Nh_cb1RNV9o].1.mp4\n",
      "\n",
      "Download Results:\n",
      "gid   |stat|avg speed  |path/URI\n",
      "======+====+===========+=======================================================\n",
      "d6fa45|\u001b[1;34mINPR\u001b[0m|    37MiB/s|/home/anthony/judo/raw/[Mat+2]+2023+President's+Cup+[Nh_cb1RNV9o].1.mp4\n",
      "\n",
      "Status Legend:\n",
      "(INPR):download in-progress.\n",
      "\n",
      "aria2 will resume download if the transfer is restarted.\n",
      "If there are any errors, then see the log file. See '-l' option in help/man page for details.\n"
     ]
    }
   ],
   "source": [
    "! mkdir -p {data_path}/raw\n",
    "! aria2c \\\n",
    "    -d {data_path}/raw \\\n",
    "    \"https://f004.backblazeb2.com/file/acm-judo/data/yt-dlp/%5BMat+2%5D+2023+President's+Cup+%5BNh_cb1RNV9o%5D.mp4\"\n",
    "! aria2c \\\n",
    "    -d {data_path}/raw \\\n",
    "    \"https://f004.backblazeb2.com/file/acm-judo/data/yt-dlp/%5BMat+8%5D+2023+President's+Cup+%5B6rZvqhUaxOE%5D.mp4\""
   ]
  },
  {
   "cell_type": "code",
   "execution_count": 3,
   "id": "04b93d46-849a-4eac-97a3-5b6a640771e3",
   "metadata": {},
   "outputs": [
    {
     "name": "stdout",
     "output_type": "stream",
     "text": [
      "'[Mat+2]+2023+President'\\''s+Cup+[Nh_cb1RNV9o].mp4'\n",
      "'[Mat+8]+2023+President'\\''s+Cup+[6rZvqhUaxOE].mp4'\n"
     ]
    }
   ],
   "source": [
    "! ls {data_path}/raw"
   ]
  },
  {
   "cell_type": "code",
   "execution_count": 5,
   "id": "e2d3f0b2",
   "metadata": {},
   "outputs": [
    {
     "name": "stdout",
     "output_type": "stream",
     "text": [
      "mat-2.mp4  mat-8.mp4\n"
     ]
    }
   ],
   "source": [
    "# let's rename these files\n",
    "\n",
    "! mv {data_path}/raw/\"[Mat+2]+2023+President's+Cup+[Nh_cb1RNV9o].mp4\" {data_path}/raw/mat-2.mp4\n",
    "! mv {data_path}/raw/\"[Mat+8]+2023+President's+Cup+[6rZvqhUaxOE].mp4\" {data_path}/raw/mat-8.mp4\n",
    "! ls {data_path}/raw"
   ]
  }
 ],
 "metadata": {
  "kernelspec": {
   "display_name": "Python 3 (ipykernel)",
   "language": "python",
   "name": "python3"
  },
  "language_info": {
   "codemirror_mode": {
    "name": "ipython",
    "version": 3
   },
   "file_extension": ".py",
   "mimetype": "text/x-python",
   "name": "python",
   "nbconvert_exporter": "python",
   "pygments_lexer": "ipython3",
   "version": "3.10.13"
  }
 },
 "nbformat": 4,
 "nbformat_minor": 5
}
