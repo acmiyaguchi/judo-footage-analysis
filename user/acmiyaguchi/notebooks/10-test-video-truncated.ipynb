{
 "cells": [
  {
   "cell_type": "markdown",
   "id": "35963382-5665-48dd-8976-f1b6e77338de",
   "metadata": {},
   "source": [
    "# test video truncated\n",
    "\n",
    "The purpose of this notebook is to truncate two of the videos to be used as a testing dataset. We choose a video with and without the smoothcomp overlay which will have different properties. We choose a 10 minute segment that is an hour into the video."
   ]
  },
  {
   "cell_type": "code",
   "execution_count": 1,
   "id": "8e0c17c3-769c-40cf-b8c7-73e9ce302566",
   "metadata": {},
   "outputs": [
    {
     "data": {
      "text/plain": [
       "[PosixPath(\"/mnt/students/video_judo/[Mat+1]+2023+President's+Cup+[uPhXtW_f_AE].mp4\"),\n",
       " PosixPath(\"/mnt/students/video_judo/[Mat+2]+2023+President's+Cup+[Nh_cb1RNV9o].mp4\"),\n",
       " PosixPath(\"/mnt/students/video_judo/[Mat+3]+2023+President's+Cup+[95paesJw7pk].mp4\"),\n",
       " PosixPath(\"/mnt/students/video_judo/[Mat+4]+2023+President's+Cup+[xVDw2bhFXgk].mp4\"),\n",
       " PosixPath(\"/mnt/students/video_judo/[Mat+5]+2023+President's+Cup+[2hYzoJ8HSkk].mp4\"),\n",
       " PosixPath(\"/mnt/students/video_judo/[Mat+6]+2023+President's+Cup+[B38xef6cHHk].mp4\"),\n",
       " PosixPath(\"/mnt/students/video_judo/[Mat+7]+2023+President's+Cup+[mDFtwQVP9GM].mp4\"),\n",
       " PosixPath(\"/mnt/students/video_judo/[Mat+8]+2023+President's+Cup+[6rZvqhUaxOE].mp4\"),\n",
       " PosixPath(\"/mnt/students/video_judo/[Mat+9]+2023+President's+Cup+[pE_mDPF0gwI].mp4\"),\n",
       " PosixPath(\"/mnt/students/video_judo/data_yt-dlp_[Mat 10] 2023 President's Cup [OwhJQFx27YM].mp4\")]"
      ]
     },
     "execution_count": 1,
     "metadata": {},
     "output_type": "execute_result"
    }
   ],
   "source": [
    "from pathlib import Path\n",
    "import shutil\n",
    "\n",
    "# unfortunately, these video titles are directly taken\n",
    "# from the original youtube titles.\n",
    "paths = sorted(Path(\"/mnt/students/video_judo\").glob(\"*.mp4\"))\n",
    "paths"
   ]
  },
  {
   "cell_type": "code",
   "execution_count": 3,
   "id": "8a49309c-5117-4bf9-96f1-0b8d57995641",
   "metadata": {},
   "outputs": [
    {
     "name": "stdout",
     "output_type": "stream",
     "text": [
      "CPU times: user 59.5 ms, sys: 6.08 s, total: 6.14 s\n",
      "Wall time: 20min 2s\n"
     ]
    }
   ],
   "source": [
    "# let's keep mat 2 and mat 8\n",
    "# first let's move these over to a local directory and then truncate it\n",
    "\n",
    "data_path = Path.home() / \"local_storage/judo-footage-analysis/raw\"\n",
    "data_path.mkdir(exist_ok=True, parents=True)\n",
    "\n",
    "if not (data_path / \"mat-2.mp4\").exists():\n",
    "    %time shutil.copy(paths[1], data_path / \"mat-2.mp4\")\n",
    "if not (data_path / \"mat-8.mp4\").exists():\n",
    "    %time shutil.copy(paths[7], data_path / \"mat-8.mp4\")"
   ]
  },
  {
   "cell_type": "code",
   "execution_count": 5,
   "id": "04b93d46-849a-4eac-97a3-5b6a640771e3",
   "metadata": {},
   "outputs": [
    {
     "name": "stdout",
     "output_type": "stream",
     "text": [
      "total 11G\n",
      "drwxrwsr-x 2 amiyaguc grad_students 4.0K Jan 17 11:53 .\n",
      "drwxrwsr-x 3 amiyaguc grad_students 4.0K Jan 15 10:05 ..\n",
      "-rwxrwxrwx 1 amiyaguc grad_students 5.2G Jan 15 10:06 mat-2.mp4\n",
      "-rwxrwxrwx 1 amiyaguc grad_students 5.5G Jan 17 12:13 mat-8.mp4\n"
     ]
    }
   ],
   "source": [
    "! ls -alh {data_path}"
   ]
  },
  {
   "cell_type": "code",
   "execution_count": 7,
   "id": "42a1b1c0",
   "metadata": {},
   "outputs": [
    {
     "name": "stdout",
     "output_type": "stream",
     "text": [
      "ffmpeg version 4.2.7-0ubuntu0.1 Copyright (c) 2000-2022 the FFmpeg developers\n",
      "  built with gcc 9 (Ubuntu 9.4.0-1ubuntu1~20.04.1)\n",
      "  configuration: --prefix=/usr --extra-version=0ubuntu0.1 --toolchain=hardened --libdir=/usr/lib/x86_64-linux-gnu --incdir=/usr/include/x86_64-linux-gnu --arch=amd64 --enable-gpl --disable-stripping --enable-avresample --disable-filter=resample --enable-avisynth --enable-gnutls --enable-ladspa --enable-libaom --enable-libass --enable-libbluray --enable-libbs2b --enable-libcaca --enable-libcdio --enable-libcodec2 --enable-libflite --enable-libfontconfig --enable-libfreetype --enable-libfribidi --enable-libgme --enable-libgsm --enable-libjack --enable-libmp3lame --enable-libmysofa --enable-libopenjpeg --enable-libopenmpt --enable-libopus --enable-libpulse --enable-librsvg --enable-librubberband --enable-libshine --enable-libsnappy --enable-libsoxr --enable-libspeex --enable-libssh --enable-libtheora --enable-libtwolame --enable-libvidstab --enable-libvorbis --enable-libvpx --enable-libwavpack --enable-libwebp --enable-libx265 --enable-libxml2 --enable-libxvid --enable-libzmq --enable-libzvbi --enable-lv2 --enable-omx --enable-openal --enable-opencl --enable-opengl --enable-sdl2 --enable-libdc1394 --enable-libdrm --enable-libiec61883 --enable-nvenc --enable-chromaprint --enable-frei0r --enable-libx264 --enable-shared\n",
      "  libavutil      56. 31.100 / 56. 31.100\n",
      "  libavcodec     58. 54.100 / 58. 54.100\n",
      "  libavformat    58. 29.100 / 58. 29.100\n",
      "  libavdevice    58.  8.100 / 58.  8.100\n",
      "  libavfilter     7. 57.100 /  7. 57.100\n",
      "  libavresample   4.  0.  0 /  4.  0.  0\n",
      "  libswscale      5.  5.100 /  5.  5.100\n",
      "  libswresample   3.  5.100 /  3.  5.100\n",
      "  libpostproc    55.  5.100 / 55.  5.100\n"
     ]
    },
    {
     "name": "stdout",
     "output_type": "stream",
     "text": [
      "Input #0, mov,mp4,m4a,3gp,3g2,mj2, from '/home/GPU/amiyaguc/local_storage/judo-footage-analysis/raw/mat-2.mp4':\n",
      "  Metadata:\n",
      "    major_brand     : mp42\n",
      "    minor_version   : 0\n",
      "    compatible_brands: isommp42\n",
      "    creation_time   : 2023-11-20T09:18:08.000000Z\n",
      "  Duration: 11:45:18.04, start: 0.000000, bitrate: 1041 kb/s\n",
      "    Stream #0:0(und): Video: h264 (High) (avc1 / 0x31637661), yuv420p(tv, bt709), 1280x720 [SAR 1:1 DAR 16:9], 910 kb/s, 30 fps, 30 tbr, 15360 tbn, 60 tbc (default)\n",
      "    Metadata:\n",
      "      creation_time   : 2023-11-20T09:18:08.000000Z\n",
      "      handler_name    : ISO Media file produced by Google Inc. Created on: 11/20/2023.\n",
      "    Stream #0:1(eng): Audio: aac (LC) (mp4a / 0x6134706D), 44100 Hz, stereo, fltp, 128 kb/s (default)\n",
      "    Metadata:\n",
      "      creation_time   : 2023-11-20T09:18:08.000000Z\n",
      "      handler_name    : ISO Media file produced by Google Inc. Created on: 11/20/2023.\n",
      "Output #0, mp4, to '/home/GPU/amiyaguc/local_storage/judo-footage-analysis/interim/mat-2-trunc.mp4':\n",
      "  Metadata:\n",
      "    major_brand     : mp42\n",
      "    minor_version   : 0\n",
      "    compatible_brands: isommp42\n",
      "    encoder         : Lavf58.29.100\n",
      "    Stream #0:0(und): Video: h264 (High) (avc1 / 0x31637661), yuv420p(tv, bt709), 1280x720 [SAR 1:1 DAR 16:9], q=2-31, 910 kb/s, 30 fps, 30 tbr, 15360 tbn, 15360 tbc (default)\n",
      "    Metadata:\n",
      "      creation_time   : 2023-11-20T09:18:08.000000Z\n",
      "      handler_name    : ISO Media file produced by Google Inc. Created on: 11/20/2023.\n",
      "    Stream #0:1(eng): Audio: aac (LC) (mp4a / 0x6134706D), 44100 Hz, stereo, fltp, 128 kb/s (default)\n",
      "    Metadata:\n",
      "      creation_time   : 2023-11-20T09:18:08.000000Z\n",
      "      handler_name    : ISO Media file produced by Google Inc. Created on: 11/20/2023.\n",
      "Stream mapping:\n",
      "  Stream #0:0 -> #0:0 (copy)\n",
      "  Stream #0:1 -> #0:1 (copy)\n",
      "Press [q] to stop, [?] for help\n",
      "frame=17899 fps=0.0 q=-1.0 Lsize=   79933kB time=00:09:59.97 bitrate=1091.4kbits/s speed=1.01e+03x    \n",
      "video:70003kB audio:9375kB subtitle:0kB other streams:0kB global headers:0kB muxing overhead: 0.699703%\n",
      "ffmpeg version 4.2.7-0ubuntu0.1 Copyright (c) 2000-2022 the FFmpeg developers\n",
      "  built with gcc 9 (Ubuntu 9.4.0-1ubuntu1~20.04.1)\n",
      "  configuration: --prefix=/usr --extra-version=0ubuntu0.1 --toolchain=hardened --libdir=/usr/lib/x86_64-linux-gnu --incdir=/usr/include/x86_64-linux-gnu --arch=amd64 --enable-gpl --disable-stripping --enable-avresample --disable-filter=resample --enable-avisynth --enable-gnutls --enable-ladspa --enable-libaom --enable-libass --enable-libbluray --enable-libbs2b --enable-libcaca --enable-libcdio --enable-libcodec2 --enable-libflite --enable-libfontconfig --enable-libfreetype --enable-libfribidi --enable-libgme --enable-libgsm --enable-libjack --enable-libmp3lame --enable-libmysofa --enable-libopenjpeg --enable-libopenmpt --enable-libopus --enable-libpulse --enable-librsvg --enable-librubberband --enable-libshine --enable-libsnappy --enable-libsoxr --enable-libspeex --enable-libssh --enable-libtheora --enable-libtwolame --enable-libvidstab --enable-libvorbis --enable-libvpx --enable-libwavpack --enable-libwebp --enable-libx265 --enable-libxml2 --enable-libxvid --enable-libzmq --enable-libzvbi --enable-lv2 --enable-omx --enable-openal --enable-opencl --enable-opengl --enable-sdl2 --enable-libdc1394 --enable-libdrm --enable-libiec61883 --enable-nvenc --enable-chromaprint --enable-frei0r --enable-libx264 --enable-shared\n",
      "  libavutil      56. 31.100 / 56. 31.100\n",
      "  libavcodec     58. 54.100 / 58. 54.100\n",
      "  libavformat    58. 29.100 / 58. 29.100\n",
      "  libavdevice    58.  8.100 / 58.  8.100\n",
      "  libavfilter     7. 57.100 /  7. 57.100\n",
      "  libavresample   4.  0.  0 /  4.  0.  0\n",
      "  libswscale      5.  5.100 /  5.  5.100\n",
      "  libswresample   3.  5.100 /  3.  5.100\n",
      "  libpostproc    55.  5.100 / 55.  5.100\n",
      "Input #0, mov,mp4,m4a,3gp,3g2,mj2, from '/home/GPU/amiyaguc/local_storage/judo-footage-analysis/raw/mat-8.mp4':\n",
      "  Metadata:\n",
      "    major_brand     : mp42\n",
      "    minor_version   : 0\n",
      "    compatible_brands: isommp42\n",
      "    creation_time   : 2023-11-20T09:05:25.000000Z\n",
      "  Duration: 11:54:55.87, start: 0.000000, bitrate: 1091 kb/s\n",
      "    Stream #0:0(und): Video: h264 (High) (avc1 / 0x31637661), yuv420p(tv, bt709), 1280x720 [SAR 1:1 DAR 16:9], 959 kb/s, 30 fps, 30 tbr, 15360 tbn, 60 tbc (default)\n",
      "    Metadata:\n",
      "      creation_time   : 2023-11-20T09:05:25.000000Z\n",
      "      handler_name    : ISO Media file produced by Google Inc. Created on: 11/20/2023.\n",
      "    Stream #0:1(eng): Audio: aac (LC) (mp4a / 0x6134706D), 44100 Hz, stereo, fltp, 128 kb/s (default)\n",
      "    Metadata:\n",
      "      creation_time   : 2023-11-20T09:05:25.000000Z\n",
      "      handler_name    : ISO Media file produced by Google Inc. Created on: 11/20/2023.\n",
      "Output #0, mp4, to '/home/GPU/amiyaguc/local_storage/judo-footage-analysis/interim/mat-8-trunc.mp4':\n",
      "  Metadata:\n",
      "    major_brand     : mp42\n",
      "    minor_version   : 0\n",
      "    compatible_brands: isommp42\n",
      "    encoder         : Lavf58.29.100\n",
      "    Stream #0:0(und): Video: h264 (High) (avc1 / 0x31637661), yuv420p(tv, bt709), 1280x720 [SAR 1:1 DAR 16:9], q=2-31, 959 kb/s, 30 fps, 30 tbr, 15360 tbn, 15360 tbc (default)\n",
      "    Metadata:\n",
      "      creation_time   : 2023-11-20T09:05:25.000000Z\n",
      "      handler_name    : ISO Media file produced by Google Inc. Created on: 11/20/2023.\n",
      "    Stream #0:1(eng): Audio: aac (LC) (mp4a / 0x6134706D), 44100 Hz, stereo, fltp, 128 kb/s (default)\n",
      "    Metadata:\n",
      "      creation_time   : 2023-11-20T09:05:25.000000Z\n",
      "      handler_name    : ISO Media file produced by Google Inc. Created on: 11/20/2023.\n",
      "Stream mapping:\n",
      "  Stream #0:0 -> #0:0 (copy)\n",
      "  Stream #0:1 -> #0:1 (copy)\n",
      "Press [q] to stop, [?] for help\n",
      "frame=17921 fps=0.0 q=-1.0 Lsize=   86621kB time=00:09:59.99 bitrate=1182.7kbits/s speed=1.26e+03x    \n",
      "video:76691kB audio:9375kB subtitle:0kB other streams:0kB global headers:0kB muxing overhead: 0.644428%\n"
     ]
    }
   ],
   "source": [
    "# let's create some truncated videos that follow the truncated videos from the other notebooks\n",
    "\n",
    "data_path = Path.home() / \"local_storage/judo-footage-analysis\"\n",
    "! mkdir -p {data_path}/interim\n",
    "! ffmpeg -y \\\n",
    "    -i {data_path}/raw/mat-2.mp4 \\\n",
    "    -ss 01:00:00 \\\n",
    "    -t 00:10:00 \\\n",
    "    -c:v copy -c:a copy \\\n",
    "    {data_path}/interim/mat-2-trunc.mp4\n",
    "! ffmpeg -y \\\n",
    "    -i {data_path}/raw/mat-8.mp4 \\\n",
    "    -ss 01:00:20 \\\n",
    "    -t 00:10:00 \\\n",
    "    -c:v copy -c:a copy \\\n",
    "    {data_path}/interim/mat-8-trunc.mp4"
   ]
  },
  {
   "cell_type": "code",
   "execution_count": 9,
   "id": "56f71a16",
   "metadata": {},
   "outputs": [
    {
     "name": "stdout",
     "output_type": "stream",
     "text": [
      "total 163M\n",
      "drwxr-sr-x 2 amiyaguc grad_students 4.0K Jan 17 12:42 .\n",
      "drwxrwsr-x 4 amiyaguc grad_students 4.0K Jan 17 12:43 ..\n",
      "-rw-r--r-- 1 amiyaguc grad_students  79M Jan 17 12:42 mat-2-trunc.mp4\n",
      "-rw-r--r-- 1 amiyaguc grad_students  85M Jan 17 12:42 mat-8-trunc.mp4\n"
     ]
    }
   ],
   "source": [
    "! ls -alh {data_path}/interim"
   ]
  }
 ],
 "metadata": {
  "kernelspec": {
   "display_name": "Python 3 (ipykernel)",
   "language": "python",
   "name": "python3"
  },
  "language_info": {
   "codemirror_mode": {
    "name": "ipython",
    "version": 3
   },
   "file_extension": ".py",
   "mimetype": "text/x-python",
   "name": "python",
   "nbconvert_exporter": "python",
   "pygments_lexer": "ipython3",
   "version": "3.8.10"
  }
 },
 "nbformat": 4,
 "nbformat_minor": 5
}
