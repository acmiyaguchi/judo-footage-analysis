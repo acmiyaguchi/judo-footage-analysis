{
 "cells": [
  {
   "cell_type": "code",
   "execution_count": 12,
   "metadata": {},
   "outputs": [
    {
     "name": "stderr",
     "output_type": "stream",
     "text": [
      "24/04/05 16:01:34 WARN SparkSession: Using an existing Spark session; only runtime SQL configurations will take effect.\n"
     ]
    },
    {
     "data": {
      "text/html": [
       "\n",
       "            <div>\n",
       "                <p><b>SparkSession - in-memory</b></p>\n",
       "                \n",
       "        <div>\n",
       "            <p><b>SparkContext</b></p>\n",
       "\n",
       "            <p><a href=\"http://GTL-PC108.msad.georgiatech-metz.fr:4041\">Spark UI</a></p>\n",
       "\n",
       "            <dl>\n",
       "              <dt>Version</dt>\n",
       "                <dd><code>v3.5.1</code></dd>\n",
       "              <dt>Master</dt>\n",
       "                <dd><code>local[*]</code></dd>\n",
       "              <dt>AppName</dt>\n",
       "                <dd><code>spark-1712325386</code></dd>\n",
       "            </dl>\n",
       "        </div>\n",
       "        \n",
       "            </div>\n",
       "        "
      ],
      "text/plain": [
       "<pyspark.sql.session.SparkSession at 0x7fa9444999f0>"
      ]
     },
     "execution_count": 12,
     "metadata": {},
     "output_type": "execute_result"
    }
   ],
   "source": [
    "from judo_footage_analysis.utils import get_spark\n",
    "from pyspark.sql import functions as F\n",
    "\n",
    "root = \"/cs-share/pradalier/tmp/judo\"\n",
    "\n",
    "spark = get_spark(cores=4, mem=\"1g\")\n",
    "spark"
   ]
  },
  {
   "cell_type": "code",
   "execution_count": 2,
   "metadata": {},
   "outputs": [
    {
     "name": "stdout",
     "output_type": "stream",
     "text": [
      "combat-phase-at-2024-04-05-12-54-ebac918e.json\n",
      "entity-detection-2024-03-19\n",
      "entity-detection-at-2024-04-05-12-52-6eba090e.json\n",
      "match-classification-at-2024-04-05-12-47-2a810013.json\n",
      "old\n"
     ]
    }
   ],
   "source": [
    "! ls {root}/data/annotations"
   ]
  },
  {
   "cell_type": "code",
   "execution_count": 8,
   "metadata": {},
   "outputs": [
    {
     "name": "stdout",
     "output_type": "stream",
     "text": [
      "root\n",
      " |-- annotations: array (nullable = true)\n",
      " |    |-- element: struct (containsNull = true)\n",
      " |    |    |-- completed_by: long (nullable = true)\n",
      " |    |    |-- created_at: string (nullable = true)\n",
      " |    |    |-- draft_created_at: string (nullable = true)\n",
      " |    |    |-- ground_truth: boolean (nullable = true)\n",
      " |    |    |-- id: long (nullable = true)\n",
      " |    |    |-- import_id: string (nullable = true)\n",
      " |    |    |-- last_action: string (nullable = true)\n",
      " |    |    |-- last_created_by: string (nullable = true)\n",
      " |    |    |-- lead_time: double (nullable = true)\n",
      " |    |    |-- parent_annotation: string (nullable = true)\n",
      " |    |    |-- parent_prediction: long (nullable = true)\n",
      " |    |    |-- project: long (nullable = true)\n",
      " |    |    |-- result: array (nullable = true)\n",
      " |    |    |    |-- element: struct (containsNull = true)\n",
      " |    |    |    |    |-- from_name: string (nullable = true)\n",
      " |    |    |    |    |-- id: string (nullable = true)\n",
      " |    |    |    |    |-- image_rotation: long (nullable = true)\n",
      " |    |    |    |    |-- origin: string (nullable = true)\n",
      " |    |    |    |    |-- original_height: long (nullable = true)\n",
      " |    |    |    |    |-- original_length: long (nullable = true)\n",
      " |    |    |    |    |-- original_width: long (nullable = true)\n",
      " |    |    |    |    |-- score: double (nullable = true)\n",
      " |    |    |    |    |-- to_name: string (nullable = true)\n",
      " |    |    |    |    |-- type: string (nullable = true)\n",
      " |    |    |    |    |-- value: struct (nullable = true)\n",
      " |    |    |    |    |    |-- channel: long (nullable = true)\n",
      " |    |    |    |    |    |-- choices: array (nullable = true)\n",
      " |    |    |    |    |    |    |-- element: string (containsNull = true)\n",
      " |    |    |    |    |    |-- end: double (nullable = true)\n",
      " |    |    |    |    |    |-- height: double (nullable = true)\n",
      " |    |    |    |    |    |-- labels: array (nullable = true)\n",
      " |    |    |    |    |    |    |-- element: string (containsNull = true)\n",
      " |    |    |    |    |    |-- rectanglelabels: array (nullable = true)\n",
      " |    |    |    |    |    |    |-- element: string (containsNull = true)\n",
      " |    |    |    |    |    |-- rotation: long (nullable = true)\n",
      " |    |    |    |    |    |-- start: double (nullable = true)\n",
      " |    |    |    |    |    |-- width: double (nullable = true)\n",
      " |    |    |    |    |    |-- x: double (nullable = true)\n",
      " |    |    |    |    |    |-- y: double (nullable = true)\n",
      " |    |    |-- result_count: long (nullable = true)\n",
      " |    |    |-- task: long (nullable = true)\n",
      " |    |    |-- unique_id: string (nullable = true)\n",
      " |    |    |-- updated_at: string (nullable = true)\n",
      " |    |    |-- updated_by: long (nullable = true)\n",
      " |    |    |-- was_cancelled: boolean (nullable = true)\n",
      " |-- cancelled_annotations: long (nullable = true)\n",
      " |-- comment_authors: array (nullable = true)\n",
      " |    |-- element: string (containsNull = true)\n",
      " |-- comment_count: long (nullable = true)\n",
      " |-- created_at: string (nullable = true)\n",
      " |-- data: struct (nullable = true)\n",
      " |    |-- image: string (nullable = true)\n",
      " |    |-- video_url: string (nullable = true)\n",
      " |-- drafts: array (nullable = true)\n",
      " |    |-- element: struct (containsNull = true)\n",
      " |    |    |-- annotation: long (nullable = true)\n",
      " |    |    |-- created_ago: string (nullable = true)\n",
      " |    |    |-- created_at: string (nullable = true)\n",
      " |    |    |-- created_username: string (nullable = true)\n",
      " |    |    |-- id: long (nullable = true)\n",
      " |    |    |-- import_id: string (nullable = true)\n",
      " |    |    |-- lead_time: double (nullable = true)\n",
      " |    |    |-- result: array (nullable = true)\n",
      " |    |    |    |-- element: struct (containsNull = true)\n",
      " |    |    |    |    |-- from_name: string (nullable = true)\n",
      " |    |    |    |    |-- id: string (nullable = true)\n",
      " |    |    |    |    |-- image_rotation: long (nullable = true)\n",
      " |    |    |    |    |-- origin: string (nullable = true)\n",
      " |    |    |    |    |-- original_height: long (nullable = true)\n",
      " |    |    |    |    |-- original_width: long (nullable = true)\n",
      " |    |    |    |    |-- score: double (nullable = true)\n",
      " |    |    |    |    |-- to_name: string (nullable = true)\n",
      " |    |    |    |    |-- type: string (nullable = true)\n",
      " |    |    |    |    |-- value: struct (nullable = true)\n",
      " |    |    |    |    |    |-- height: double (nullable = true)\n",
      " |    |    |    |    |    |-- rectanglelabels: array (nullable = true)\n",
      " |    |    |    |    |    |    |-- element: string (containsNull = true)\n",
      " |    |    |    |    |    |-- rotation: long (nullable = true)\n",
      " |    |    |    |    |    |-- width: double (nullable = true)\n",
      " |    |    |    |    |    |-- x: double (nullable = true)\n",
      " |    |    |    |    |    |-- y: double (nullable = true)\n",
      " |    |    |-- task: long (nullable = true)\n",
      " |    |    |-- updated_at: string (nullable = true)\n",
      " |    |    |-- user: string (nullable = true)\n",
      " |    |    |-- was_postponed: boolean (nullable = true)\n",
      " |-- file_upload: string (nullable = true)\n",
      " |-- id: long (nullable = true)\n",
      " |-- inner_id: long (nullable = true)\n",
      " |-- last_comment_updated_at: string (nullable = true)\n",
      " |-- predictions: array (nullable = true)\n",
      " |    |-- element: long (containsNull = true)\n",
      " |-- project: long (nullable = true)\n",
      " |-- total_annotations: long (nullable = true)\n",
      " |-- total_predictions: long (nullable = true)\n",
      " |-- unresolved_comment_count: long (nullable = true)\n",
      " |-- updated_at: string (nullable = true)\n",
      " |-- updated_by: long (nullable = true)\n",
      "\n",
      "-RECORD 0----------------------------------------------------------------------------------------------------\n",
      " annotations              | [{1, 2024-02-15T17:06:11.229378Z, 2024-02-15T17:06:01.361688Z, false, 2424, N... \n",
      " cancelled_annotations    | 0                                                                                \n",
      " comment_authors          | []                                                                               \n",
      " comment_count            | 0                                                                                \n",
      " created_at               | 2024-02-13T15:30:06.306570Z                                                      \n",
      " data                     | {http://localhost:8080/data/frames/mat_01/0003/0450.jpg, NULL}                   \n",
      " drafts                   | []                                                                               \n",
      " file_upload              | 6d671d5f-frame_files.txt                                                         \n",
      " id                       | 36121                                                                            \n",
      " inner_id                 | 1                                                                                \n",
      " last_comment_updated_at  | NULL                                                                             \n",
      " predictions              | []                                                                               \n",
      " project                  | 2                                                                                \n",
      " total_annotations        | 1                                                                                \n",
      " total_predictions        | 0                                                                                \n",
      " unresolved_comment_count | 0                                                                                \n",
      " updated_at               | 2024-02-15T17:06:11.247297Z                                                      \n",
      " updated_by               | 1                                                                                \n",
      "only showing top 1 row\n",
      "\n"
     ]
    },
    {
     "data": {
      "text/plain": [
       "3987"
      ]
     },
     "execution_count": 8,
     "metadata": {},
     "output_type": "execute_result"
    }
   ],
   "source": [
    "df = spark.read.json(\n",
    "    f\"{root}/data/annotations/*.json\",\n",
    "    multiLine=True,\n",
    ")\n",
    "df.printSchema()\n",
    "df.show(n=1, vertical=True, truncate=80)\n",
    "df.count()"
   ]
  },
  {
   "cell_type": "code",
   "execution_count": 9,
   "metadata": {},
   "outputs": [
    {
     "name": "stdout",
     "output_type": "stream",
     "text": [
      "+-------+-----+\n",
      "|project|count|\n",
      "+-------+-----+\n",
      "|      2| 1651|\n",
      "|      1| 2314|\n",
      "|     16|   22|\n",
      "+-------+-----+\n",
      "\n"
     ]
    }
   ],
   "source": [
    "df.groupBy(\"project\").count().show()"
   ]
  },
  {
   "cell_type": "code",
   "execution_count": 19,
   "metadata": {},
   "outputs": [
    {
     "name": "stdout",
     "output_type": "stream",
     "text": [
      "-RECORD 0---------------------------------------------------------------------------------------------\n",
      " completed_by      | 1                                                                                \n",
      " created_at        | 2024-02-15T17:06:11.229378Z                                                      \n",
      " draft_created_at  | 2024-02-15T17:06:01.361688Z                                                      \n",
      " ground_truth      | false                                                                            \n",
      " id                | 2424                                                                             \n",
      " import_id         | NULL                                                                             \n",
      " last_action       | NULL                                                                             \n",
      " last_created_by   | NULL                                                                             \n",
      " lead_time         | 24.803                                                                           \n",
      " parent_annotation | NULL                                                                             \n",
      " parent_prediction | NULL                                                                             \n",
      " project           | 2                                                                                \n",
      " result            | [{label, 0, 0, prediction, 720, NULL, 1280, 0.5743962526321411, image, rectan... \n",
      " result_count      | 0                                                                                \n",
      " task              | 36121                                                                            \n",
      " unique_id         | 6fd03a2d-a072-48ef-b15c-259b035ee65c                                             \n",
      " updated_at        | 2024-02-15T17:06:11.229394Z                                                      \n",
      " updated_by        | 1                                                                                \n",
      " was_cancelled     | false                                                                            \n",
      "only showing top 1 row\n",
      "\n"
     ]
    }
   ],
   "source": [
    "exploded = df.select(F.explode(\"annotations\")).select(\"col.*\")\n",
    "exploded.show(n=1, vertical=True, truncate=80)"
   ]
  },
  {
   "cell_type": "code",
   "execution_count": 20,
   "metadata": {},
   "outputs": [
    {
     "name": "stdout",
     "output_type": "stream",
     "text": [
      "+------------+-------+-----+\n",
      "|completed_by|project|count|\n",
      "+------------+-------+-----+\n",
      "|           1|      1| 1076|\n",
      "|           1|      2|  857|\n",
      "|           1|     16|   22|\n",
      "|           3|      1|   39|\n",
      "|           3|      2|  301|\n",
      "|           4|      1| 1199|\n",
      "|           4|      2|  493|\n",
      "+------------+-------+-----+\n",
      "\n"
     ]
    }
   ],
   "source": [
    "exploded.groupBy(\"completed_by\", \"project\").count().orderBy(\n",
    "    \"completed_by\", \"project\"\n",
    ").show()"
   ]
  },
  {
   "cell_type": "code",
   "execution_count": 22,
   "metadata": {},
   "outputs": [
    {
     "name": "stdout",
     "output_type": "stream",
     "text": [
      "root\n",
      " |-- completed_by: long (nullable = true)\n",
      " |-- created_at: string (nullable = true)\n",
      " |-- draft_created_at: string (nullable = true)\n",
      " |-- ground_truth: boolean (nullable = true)\n",
      " |-- id: long (nullable = true)\n",
      " |-- import_id: string (nullable = true)\n",
      " |-- last_action: string (nullable = true)\n",
      " |-- last_created_by: string (nullable = true)\n",
      " |-- lead_time: double (nullable = true)\n",
      " |-- parent_annotation: string (nullable = true)\n",
      " |-- parent_prediction: long (nullable = true)\n",
      " |-- project: long (nullable = true)\n",
      " |-- result_count: long (nullable = true)\n",
      " |-- task: long (nullable = true)\n",
      " |-- unique_id: string (nullable = true)\n",
      " |-- updated_at: string (nullable = true)\n",
      " |-- updated_by: long (nullable = true)\n",
      " |-- was_cancelled: boolean (nullable = true)\n",
      "\n"
     ]
    }
   ],
   "source": [
    "exploded.drop(\"result\").printSchema()"
   ]
  },
  {
   "cell_type": "code",
   "execution_count": 29,
   "metadata": {},
   "outputs": [
    {
     "name": "stdout",
     "output_type": "stream",
     "text": [
      "Row(project=2)\n",
      "+-------+------------------+\n",
      "|summary|         lead_time|\n",
      "+-------+------------------+\n",
      "|  count|              1651|\n",
      "|   mean|10.369197456087232|\n",
      "| stddev|13.733286326242641|\n",
      "|    min|             0.557|\n",
      "|    max|           199.243|\n",
      "+-------+------------------+\n",
      "\n",
      "Row(project=1)\n",
      "+-------+------------------+\n",
      "|summary|         lead_time|\n",
      "+-------+------------------+\n",
      "|  count|              2314|\n",
      "|   mean|2.9380553154710407|\n",
      "| stddev| 38.08231107078979|\n",
      "|    min|             0.253|\n",
      "|    max|          1819.295|\n",
      "+-------+------------------+\n",
      "\n",
      "Row(project=16)\n",
      "+-------+------------------+\n",
      "|summary|         lead_time|\n",
      "+-------+------------------+\n",
      "|  count|                22|\n",
      "|   mean|166.76213636363633|\n",
      "| stddev|125.43894745948096|\n",
      "|    min|             3.181|\n",
      "|    max|506.30000000000007|\n",
      "+-------+------------------+\n",
      "\n"
     ]
    }
   ],
   "source": [
    "for row in exploded.select(\"project\").distinct().collect():\n",
    "    print(row)\n",
    "    exploded.where(F.col(\"project\") == row.project).select(\n",
    "        \"lead_time\"\n",
    "    ).describe().show()"
   ]
  },
  {
   "cell_type": "code",
   "execution_count": 114,
   "metadata": {},
   "outputs": [
    {
     "name": "stdout",
     "output_type": "stream",
     "text": [
      "+-------+------------+---------+--------------------+--------------------+------------------+\n",
      "|project|completed_by|lead_time|          updated_at|           unique_id|            origin|\n",
      "+-------+------------+---------+--------------------+--------------------+------------------+\n",
      "|      2|           1|   24.803|2024-02-15T17:06:...|6fd03a2d-a072-48e...|        prediction|\n",
      "|      2|           1|   24.803|2024-02-15T17:06:...|6fd03a2d-a072-48e...|        prediction|\n",
      "|      2|           1|   24.803|2024-02-15T17:06:...|6fd03a2d-a072-48e...|prediction-changed|\n",
      "|      2|           4|   36.335|2024-02-20T12:58:...|533ae198-4bc7-4bd...|        prediction|\n",
      "|      2|           4|   36.335|2024-02-20T12:58:...|533ae198-4bc7-4bd...|        prediction|\n",
      "|      2|           4|   36.335|2024-02-20T12:58:...|533ae198-4bc7-4bd...|prediction-changed|\n",
      "|      2|           1|    6.796|2024-02-15T17:12:...|f2b8e5d0-5840-42e...|        prediction|\n",
      "|      2|           1|    6.796|2024-02-15T17:12:...|f2b8e5d0-5840-42e...|        prediction|\n",
      "|      2|           1|    6.796|2024-02-15T17:12:...|f2b8e5d0-5840-42e...|        prediction|\n",
      "|      2|           1|    2.419|2024-02-15T17:12:...|259f2b35-8638-484...|        prediction|\n",
      "|      2|           1|    2.419|2024-02-15T17:12:...|259f2b35-8638-484...|        prediction|\n",
      "|      2|           1|    2.419|2024-02-15T17:12:...|259f2b35-8638-484...|        prediction|\n",
      "|      2|           1|   16.093|2024-02-15T17:12:...|3d4cacce-763e-446...|        prediction|\n",
      "|      2|           1|   16.093|2024-02-15T17:12:...|3d4cacce-763e-446...|prediction-changed|\n",
      "|      2|           1|   16.093|2024-02-15T17:12:...|3d4cacce-763e-446...|        prediction|\n",
      "|      2|           1|   63.405|2024-02-15T17:13:...|70c1e7a3-94de-4c7...|prediction-changed|\n",
      "|      2|           1|   63.405|2024-02-15T17:13:...|70c1e7a3-94de-4c7...|prediction-changed|\n",
      "|      2|           1|   63.405|2024-02-15T17:13:...|70c1e7a3-94de-4c7...|prediction-changed|\n",
      "|      2|           1|    7.395|2024-02-15T17:13:...|caa41626-521a-453...|prediction-changed|\n",
      "|      2|           1|    7.395|2024-02-15T17:13:...|caa41626-521a-453...|        prediction|\n",
      "+-------+------------+---------+--------------------+--------------------+------------------+\n",
      "only showing top 20 rows\n",
      "\n"
     ]
    }
   ],
   "source": [
    "result_exploded = exploded.select(\"*\", F.explode(\"result\")).select(\"*\", \"col.*\")\n",
    "# result_exploded.printSchema()\n",
    "task_annotations = result_exploded.select(\n",
    "    \"project\", \"completed_by\", \"lead_time\", \"updated_at\", \"unique_id\", \"origin\"\n",
    ")\n",
    "task_annotations.show()"
   ]
  },
  {
   "cell_type": "code",
   "execution_count": 115,
   "metadata": {},
   "outputs": [
    {
     "name": "stdout",
     "output_type": "stream",
     "text": [
      "+-------+-----+\n",
      "|project|count|\n",
      "+-------+-----+\n",
      "|      2| 3473|\n",
      "|      1| 2311|\n",
      "|     16|   63|\n",
      "+-------+-----+\n",
      "\n"
     ]
    }
   ],
   "source": [
    "task_annotations.groupBy(\"project\").count().show()"
   ]
  },
  {
   "cell_type": "code",
   "execution_count": 116,
   "metadata": {},
   "outputs": [
    {
     "name": "stdout",
     "output_type": "stream",
     "text": [
      "+-------+--------------------+------------------+\n",
      "|summary|           unique_id|             count|\n",
      "+-------+--------------------+------------------+\n",
      "|  count|                1328|              1328|\n",
      "|   mean|                NULL| 2.615210843373494|\n",
      "| stddev|                NULL|0.7698015192393763|\n",
      "|    min|0017a8e5-b0b0-4fe...|                 1|\n",
      "|    max|ffddd5e4-dde6-4a4...|                 4|\n",
      "+-------+--------------------+------------------+\n",
      "\n"
     ]
    }
   ],
   "source": [
    "task2 = task_annotations.where(\"project = 2\")\n",
    "task2.groupBy(\"unique_id\").count().describe().show()"
   ]
  },
  {
   "cell_type": "code",
   "execution_count": 117,
   "metadata": {},
   "outputs": [
    {
     "name": "stdout",
     "output_type": "stream",
     "text": [
      "+------------------+-----+\n",
      "|            origin|count|\n",
      "+------------------+-----+\n",
      "|        prediction| 2199|\n",
      "|            manual|  210|\n",
      "|prediction-changed| 1064|\n",
      "+------------------+-----+\n",
      "\n"
     ]
    }
   ],
   "source": [
    "task2.groupBy(\"origin\").count().show()"
   ]
  },
  {
   "cell_type": "code",
   "execution_count": 118,
   "metadata": {},
   "outputs": [
    {
     "data": {
      "text/html": [
       "<div>\n",
       "<style scoped>\n",
       "    .dataframe tbody tr th:only-of-type {\n",
       "        vertical-align: middle;\n",
       "    }\n",
       "\n",
       "    .dataframe tbody tr th {\n",
       "        vertical-align: top;\n",
       "    }\n",
       "\n",
       "    .dataframe thead th {\n",
       "        text-align: right;\n",
       "    }\n",
       "</style>\n",
       "<table border=\"1\" class=\"dataframe\">\n",
       "  <thead>\n",
       "    <tr style=\"text-align: right;\">\n",
       "      <th></th>\n",
       "      <th>updated_at</th>\n",
       "      <th>count</th>\n",
       "    </tr>\n",
       "  </thead>\n",
       "  <tbody>\n",
       "    <tr>\n",
       "      <th>0</th>\n",
       "      <td>2024-02-15</td>\n",
       "      <td>28</td>\n",
       "    </tr>\n",
       "    <tr>\n",
       "      <th>1</th>\n",
       "      <td>2024-02-16</td>\n",
       "      <td>4</td>\n",
       "    </tr>\n",
       "    <tr>\n",
       "      <th>2</th>\n",
       "      <td>2024-02-19</td>\n",
       "      <td>62</td>\n",
       "    </tr>\n",
       "    <tr>\n",
       "      <th>3</th>\n",
       "      <td>2024-02-20</td>\n",
       "      <td>597</td>\n",
       "    </tr>\n",
       "    <tr>\n",
       "      <th>4</th>\n",
       "      <td>2024-03-12</td>\n",
       "      <td>166</td>\n",
       "    </tr>\n",
       "  </tbody>\n",
       "</table>\n",
       "</div>"
      ],
      "text/plain": [
       "  updated_at  count\n",
       "0 2024-02-15     28\n",
       "1 2024-02-16      4\n",
       "2 2024-02-19     62\n",
       "3 2024-02-20    597\n",
       "4 2024-03-12    166"
      ]
     },
     "execution_count": 118,
     "metadata": {},
     "output_type": "execute_result"
    }
   ],
   "source": [
    "taskdf = (\n",
    "    task2.groupBy(\"unique_id\")\n",
    "    .agg(F.first(\"updated_at\").alias(\"updated_at\"))\n",
    "    .orderBy(\"updated_at\")\n",
    "    # iso-date to seconds since epoch\n",
    "    .withColumn(\"updated_at\", F.col(\"updated_at\").cast(\"timestamp\"))\n",
    "    # truncate to hour\n",
    "    .withColumn(\"updated_at\", F.date_trunc(\"day\", \"updated_at\"))\n",
    "    # group and count\n",
    "    .groupBy(\"updated_at\")\n",
    "    .agg(F.countDistinct(\"unique_id\").alias(\"count\"))\n",
    "    .orderBy(\"updated_at\")\n",
    ").toPandas()\n",
    "taskdf.head()"
   ]
  },
  {
   "cell_type": "code",
   "execution_count": 119,
   "metadata": {},
   "outputs": [
    {
     "data": {
      "image/png": "[encoded data removed]",
      "text/plain": [
       "<Figure size 640x480 with 1 Axes>"
      ]
     },
     "metadata": {},
     "output_type": "display_data"
    }
   ],
   "source": [
    "import matplotlib.pyplot as plt\n",
    "\n",
    "# unseen days are 0\n",
    "taskdf.plot(x=\"updated_at\", y=\"count\", kind=\"scatter\")\n",
    "# x axis rotate\n",
    "plt.xticks(rotation=45)\n",
    "plt.title(\"counts of task2 annotations per day\")\n",
    "# background to white\n",
    "plt.gca().set_facecolor(\"white\")\n",
    "plt.show()"
   ]
  },
  {
   "cell_type": "code",
   "execution_count": 120,
   "metadata": {},
   "outputs": [
    {
     "name": "stdout",
     "output_type": "stream",
     "text": [
      "+-------------+-------------------------+--------+\n",
      "|model_version|count(DISTINCT unique_id)|count(1)|\n",
      "+-------------+-------------------------+--------+\n",
      "|           v0|                      691|    1926|\n",
      "|           v1|                      357|     868|\n",
      "|           v2|                      280|     679|\n",
      "+-------------+-------------------------+--------+\n",
      "\n"
     ]
    }
   ],
   "source": [
    "# add the model version\n",
    "task2_model = task2.withColumn(\n",
    "    \"updated_at\", F.col(\"updated_at\").cast(\"timestamp\")\n",
    ").withColumn(\n",
    "    \"model_version\",\n",
    "    F.when(F.col(\"updated_at\") < \"2024-03-01\", \"v0\").otherwise(\n",
    "        F.when(F.col(\"updated_at\") < \"2024-03-21\", \"v1\").otherwise(\"v2\")\n",
    "    ),\n",
    ")\n",
    "task2_model.groupBy(\"model_version\").agg(\n",
    "    F.countDistinct(\"unique_id\"), F.count(\"*\")\n",
    ").orderBy(\"model_version\").show()"
   ]
  },
  {
   "cell_type": "code",
   "execution_count": 140,
   "metadata": {},
   "outputs": [
    {
     "name": "stdout",
     "output_type": "stream",
     "text": [
      "+-------------+------+----+------------+------------+----------+------------------+\n",
      "|model_version|manual|pred|pred_changed|manual_ratio|pred_ratio|pred_changed_ratio|\n",
      "+-------------+------+----+------------+------------+----------+------------------+\n",
      "|           v0|   126|1262|         538|        0.07|      0.66|              0.28|\n",
      "|           v1|    63| 481|         324|        0.07|      0.55|              0.37|\n",
      "|           v2|    21| 456|         202|        0.03|      0.67|               0.3|\n",
      "+-------------+------+----+------------+------------+----------+------------------+\n",
      "\n"
     ]
    }
   ],
   "source": [
    "(\n",
    "    task2_model.groupBy(\"model_version\")\n",
    "    .pivot(\"origin\")\n",
    "    .count()\n",
    "    .withColumnRenamed(\"prediction-changed\", \"prediction_changed\")\n",
    "    .join(task2_model.groupBy(\"model_version\").count(), \"model_version\")\n",
    "    .select(\n",
    "        \"model_version\",\n",
    "        \"manual\",\n",
    "        F.col(\"prediction\").alias(\"pred\"),\n",
    "        F.col(\"prediction_changed\").alias(\"pred_changed\"),\n",
    "        F.expr(\"round(manual/count,2) as manual_ratio\"),\n",
    "        F.expr(\"round(prediction/count,2) as pred_ratio\"),\n",
    "        F.expr(\"round(prediction_changed/count,2) as pred_changed_ratio\"),\n",
    "    )\n",
    "    .orderBy(\"model_version\")\n",
    ").show()"
   ]
  },
  {
   "cell_type": "code",
   "execution_count": 154,
   "metadata": {},
   "outputs": [
    {
     "name": "stdout",
     "output_type": "stream",
     "text": [
      "+-------------+------+----+------------+------------+----------+------------------+\n",
      "|model_version|manual|pred|pred_changed|manual_ratio|pred_ratio|pred_changed_ratio|\n",
      "+-------------+------+----+------------+------------+----------+------------------+\n",
      "|           v0|    65| 384|         161|        0.03|       0.2|              0.08|\n",
      "|           v1|    36| 187|         148|        0.04|      0.22|              0.17|\n",
      "|           v2|    21| 455|         202|        0.03|      0.67|               0.3|\n",
      "+-------------+------+----+------------+------------+----------+------------------+\n",
      "\n"
     ]
    }
   ],
   "source": [
    "(\n",
    "    task2_model.where(\"completed_by = 1\")\n",
    "    .groupBy(\"model_version\")\n",
    "    .pivot(\"origin\")\n",
    "    .count()\n",
    "    .withColumnRenamed(\"prediction-changed\", \"prediction_changed\")\n",
    "    .join(task2_model.groupBy(\"model_version\").count(), \"model_version\")\n",
    "    .select(\n",
    "        \"model_version\",\n",
    "        \"manual\",\n",
    "        F.col(\"prediction\").alias(\"pred\"),\n",
    "        F.col(\"prediction_changed\").alias(\"pred_changed\"),\n",
    "        F.expr(\"round(manual/count,2) as manual_ratio\"),\n",
    "        F.expr(\"round(prediction/count,2) as pred_ratio\"),\n",
    "        F.expr(\"round(prediction_changed/count,2) as pred_changed_ratio\"),\n",
    "    )\n",
    "    .orderBy(\"model_version\")\n",
    ").show()"
   ]
  },
  {
   "cell_type": "code",
   "execution_count": 167,
   "metadata": {},
   "outputs": [
    {
     "name": "stdout",
     "output_type": "stream",
     "text": [
      "+-------------+-------------+----+----------------+\n",
      "|model_version|avg_lead_time|ci95|median_lead_time|\n",
      "+-------------+-------------+----+----------------+\n",
      "|           v0|         9.66|0.73|           6.217|\n",
      "|           v1|        15.89|2.07|          10.436|\n",
      "|           v2|        10.13|1.26|          6.9475|\n",
      "+-------------+-------------+----+----------------+\n",
      "\n"
     ]
    }
   ],
   "source": [
    "(\n",
    "    task2_model.groupBy(\"model_version\", \"unique_id\")\n",
    "    .agg(F.first(\"lead_time\").alias(\"lead_time\"))\n",
    "    .groupBy(\"model_version\")\n",
    "    .agg(\n",
    "        F.round(F.avg(\"lead_time\"), 2).alias(\"avg_lead_time\"),\n",
    "        F.round(F.stddev(\"lead_time\"), 2).alias(\"std_lead_time\"),\n",
    "        F.median(\"lead_time\").alias(\"median_lead_time\"),\n",
    "        F.max(\"lead_time\").alias(\"max_lead_time\"),\n",
    "        F.count(\"*\").alias(\"count\"),\n",
    "    )\n",
    "    .orderBy(\"model_version\")\n",
    "    # get 95% confidence interval\n",
    "    .withColumn(\n",
    "        \"ci95\",\n",
    "        F.expr(\n",
    "            \"round(std_lead_time * 1.96 / sqrt(count), 2)\"\n",
    "        ),  # 1.96 for 95% confidence\n",
    "    )\n",
    "    .select(\"model_version\", \"avg_lead_time\", \"ci95\", \"median_lead_time\")\n",
    ").show()"
   ]
  },
  {
   "cell_type": "code",
   "execution_count": 163,
   "metadata": {},
   "outputs": [
    {
     "name": "stdout",
     "output_type": "stream",
     "text": [
      "+-------------+-------------+----------------+\n",
      "|model_version|avg_lead_time|median_lead_time|\n",
      "+-------------+-------------+----------------+\n",
      "|           v0|        12.21|           7.803|\n",
      "|           v1|        19.44|          11.729|\n",
      "|           v2|         10.1|           6.928|\n",
      "+-------------+-------------+----------------+\n",
      "\n"
     ]
    }
   ],
   "source": [
    "(\n",
    "    task2_model.where(\"completed_by = 1\")\n",
    "    .groupBy(\"model_version\", \"unique_id\")\n",
    "    .agg(F.first(\"lead_time\").alias(\"lead_time\"))\n",
    "    .groupBy(\"model_version\")\n",
    "    .agg(\n",
    "        F.round(F.avg(\"lead_time\"), 2).alias(\"avg_lead_time\"),\n",
    "        F.round(F.stddev(\"lead_time\"), 2).alias(\"std_lead_time\"),\n",
    "        F.median(\"lead_time\").alias(\"median_lead_time\"),\n",
    "        F.max(\"lead_time\").alias(\"max_lead_time\"),\n",
    "    )\n",
    "    .orderBy(\"model_version\")\n",
    "    .select(\"model_version\", \"avg_lead_time\", \"median_lead_time\")\n",
    ").show()"
   ]
  },
  {
   "cell_type": "code",
   "execution_count": 145,
   "metadata": {},
   "outputs": [
    {
     "name": "stdout",
     "output_type": "stream",
     "text": [
      "+-------------+---+-----+\n",
      "|model_version|  n|count|\n",
      "+-------------+---+-----+\n",
      "|           v0|  1|   57|\n",
      "|           v0|  2|   46|\n",
      "|           v0|  3|  575|\n",
      "|           v0|  4|   13|\n",
      "|           v1|  1|   91|\n",
      "|           v1|  2|   24|\n",
      "|           v1|  3|  239|\n",
      "|           v1|  4|    3|\n",
      "|           v2|  1|   70|\n",
      "|           v2|  2|   23|\n",
      "|           v2|  3|  185|\n",
      "|           v2|  4|    2|\n",
      "+-------------+---+-----+\n",
      "\n"
     ]
    }
   ],
   "source": [
    "# exploding excludes the results where there are no predictions\n",
    "(\n",
    "    task2_model.groupBy(\"model_version\", \"unique_id\")\n",
    "    .agg(F.count(\"*\").alias(\"n\"))\n",
    "    .groupBy(\"model_version\", \"n\")\n",
    "    .count()\n",
    "    .orderBy(\"model_version\", \"n\")\n",
    ").show()"
   ]
  }
 ],
 "metadata": {
  "kernelspec": {
   "display_name": ".venv",
   "language": "python",
   "name": "python3"
  },
  "language_info": {
   "codemirror_mode": {
    "name": "ipython",
    "version": 3
   },
   "file_extension": ".py",
   "mimetype": "text/x-python",
   "name": "python",
   "nbconvert_exporter": "python",
   "pygments_lexer": "ipython3",
   "version": "3.10.12"
  }
 },
 "nbformat": 4,
 "nbformat_minor": 2
}
