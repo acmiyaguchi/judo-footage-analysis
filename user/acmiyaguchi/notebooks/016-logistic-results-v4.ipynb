{
 "cells": [
  {
   "cell_type": "code",
   "execution_count": 1,
   "metadata": {},
   "outputs": [
    {
     "name": "stderr",
     "output_type": "stream",
     "text": [
      "Warning: Ignoring non-Spark config property: mem\n",
      "24/04/08 19:08:35 WARN Utils: Your hostname, gtlpc129.georgiatech-metz.fr resolves to a loopback address: 127.0.1.1; using 192.93.8.129 instead (on interface enp0s31f6)\n",
      "24/04/08 19:08:35 WARN Utils: Set SPARK_LOCAL_IP if you need to bind to another address\n",
      "Setting default log level to \"WARN\".\n",
      "To adjust logging level use sc.setLogLevel(newLevel). For SparkR, use setLogLevel(newLevel).\n",
      "24/04/08 19:08:35 WARN NativeCodeLoader: Unable to load native-hadoop library for your platform... using builtin-java classes where applicable\n",
      "24/04/08 19:08:35 WARN SparkConf: Note that spark.local.dir will be overridden by the value set by the cluster manager (via SPARK_LOCAL_DIRS in mesos/standalone/kubernetes and LOCAL_DIRS in YARN).\n"
     ]
    },
    {
     "data": {
      "text/html": [
       "\n",
       "            <div>\n",
       "                <p><b>SparkSession - in-memory</b></p>\n",
       "                \n",
       "        <div>\n",
       "            <p><b>SparkContext</b></p>\n",
       "\n",
       "            <p><a href=\"http://GTL-PC129.msad.georgiatech-metz.fr:4040\">Spark UI</a></p>\n",
       "\n",
       "            <dl>\n",
       "              <dt>Version</dt>\n",
       "                <dd><code>v3.5.1</code></dd>\n",
       "              <dt>Master</dt>\n",
       "                <dd><code>local[4]</code></dd>\n",
       "              <dt>AppName</dt>\n",
       "                <dd><code>spark-1712596111</code></dd>\n",
       "            </dl>\n",
       "        </div>\n",
       "        \n",
       "            </div>\n",
       "        "
      ],
      "text/plain": [
       "<pyspark.sql.session.SparkSession at 0x7f6c627511b0>"
      ]
     },
     "execution_count": 1,
     "metadata": {},
     "output_type": "execute_result"
    }
   ],
   "source": [
    "from judo_footage_analysis.utils import get_spark\n",
    "\n",
    "root = \"/cs-share/pradalier/tmp/judo\"\n",
    "\n",
    "spark = get_spark(cores=4, mem=\"1g\")\n",
    "spark"
   ]
  },
  {
   "cell_type": "code",
   "execution_count": 2,
   "metadata": {},
   "outputs": [
    {
     "name": "stdout",
     "output_type": "stream",
     "text": [
      "+--------------------+-----------+-----------+--------------------+-------------------+-------------+---------+-------------------+--------------+----------+------------------+--------------------+--------------------+\n",
      "|         avg_metrics|      label|metric_name|         std_metrics|        test_metric|test_positive|test_size|          test_time|train_positive|train_size|        train_time|            filename|             feature|\n",
      "+--------------------+-----------+-----------+--------------------+-------------------+-------------+---------+-------------------+--------------+----------+------------------+--------------------+--------------------+\n",
      "|[0.7891663451795221]|  is_active|         f1|[0.7891663451795221]|0.37500000000000006|           45|       90|0.47534132993314415|           238|       480|12.309672495000996|file:///cs-share/...|emb_entity_detect...|\n",
      "|[0.8351040324625366]|is_standing|         f1|[0.8351040324625366]| 0.6602469135802469|            3|       90|0.46770033007487655|           103|       480|19.242219845065847|file:///cs-share/...|emb_entity_detect...|\n",
      "|[0.8291456240662577]|is_standing|         f1|[0.8291456240662577]| 0.7059523809523809|            3|       90| 0.5407315240008757|           103|       480|15.316188284079544|file:///cs-share/...|emb_entity_detect...|\n",
      "|[0.8184234938462276]|is_standing|         f1|[0.8184234938462276]| 0.5739583333333333|            3|       90|0.45799737493507564|           103|       480| 19.67008510301821|file:///cs-share/...|emb_entity_detect...|\n",
      "|[0.7613937620984927]|is_standing|         f1|[0.7613937620984927]| 0.8525879917184265|            3|       90| 0.5570264949928969|           103|       480|7.8662000600015745|file:///cs-share/...|emb_entity_detect...|\n",
      "|[0.8097080943239492]|  is_active|         f1|[0.8097080943239492]| 0.5763799743260591|           45|       90|0.49727280298247933|           238|       480| 19.34466094104573|file:///cs-share/...|emb_entity_detect...|\n",
      "|[0.8165204037406495]|  is_active|         f1|[0.8165204037406495]|0.47853216461149906|           45|       90| 0.4470961519982666|           238|       480| 19.74092096206732|file:///cs-share/...|emb_entity_detect...|\n",
      "|[0.9079650788661607]|   is_match|         f1|[0.9079650788661607]| 0.6263765780284718|           60|       90|0.38744637893978506|           378|       480|11.609347705962136|file:///cs-share/...|emb_entity_detect...|\n",
      "|[0.7434856477532482]|  is_active|         f1|[0.7434856477532482]|0.43209134615384626|           45|       90| 0.5964632389368489|           238|       480| 8.063983780099079|file:///cs-share/...|emb_entity_detect...|\n",
      "|[0.7881571142894721]|  is_active|         f1|[0.7881571142894721]|0.36996433760401526|           45|       90|  5.300320155918598|           238|       480|108.01529624196701|file:///cs-share/...|emb_vanilla_yolov...|\n",
      "|[0.8592614577775596]|is_standing|         f1|[0.8592614577775596]| 0.6696524064171122|            3|       90|  1.743364383932203|           103|       480|107.96045386709739|file:///cs-share/...|emb_vanilla_yolov...|\n",
      "|[0.9541233898404354]|   is_match|         f1|[0.9541233898404354]| 0.5822072072072072|           60|       90| 1.1437746960436925|           378|       480|129.40593210200313|file:///cs-share/...|emb_entity_detect...|\n",
      "|[0.8511280110446982]|is_standing|         f1|[0.8511280110446982]|  0.741552511415525|            3|       90| 1.0162464539753273|           103|       480| 45.88412581803277|file:///cs-share/...|emb_entity_detect...|\n",
      "|[0.8999635458516666]|   is_match|         f1|[0.8999635458516666]| 0.5333333333333333|           60|       90| 0.5441818149993196|           378|       480| 17.62067468208261|file:///cs-share/...|emb_entity_detect...|\n",
      "|[0.9026057609790049]|   is_match|         f1|[0.9026057609790049]| 0.5279642058165548|           60|       90| 0.7228416840080172|           378|       480| 16.73924371006433|file:///cs-share/...|emb_entity_detect...|\n",
      "|[0.8444181365263517]|  is_active|         f1|[0.8444181365263517]| 0.5334101382488479|           45|       90| 1.0396822290495038|           238|       480|  44.1162061879877|file:///cs-share/...|emb_entity_detect...|\n",
      "|[0.9232449547287559]|   is_match|         f1|[0.9232449547287559]| 0.5225225225225225|           60|       90| 1.1414371929131448|           378|       480| 41.62699212296866|file:///cs-share/...|emb_entity_detect...|\n",
      "|[0.9541233898404354]|   is_match|         f1|[0.9541233898404354]| 0.5822072072072072|           60|       90| 0.8680464099161327|           378|       480| 94.61263364797924|file:///cs-share/...| emb_vanilla_yolov8n|\n",
      "|[0.9280193217754958]|   is_match|         f1|[0.9280193217754958]| 0.5421299728193725|           60|       90| 1.5898066849913448|           378|       480| 75.47011523297988|file:///cs-share/...|emb_vanilla_yolov...|\n",
      "| [0.915398870617601]|   is_match|         f1| [0.915398870617601]| 0.5584181280219384|           60|       90| 0.5263108650688082|           378|       480| 18.09505651006475|file:///cs-share/...|emb_entity_detect...|\n",
      "+--------------------+-----------+-----------+--------------------+-------------------+-------------+---------+-------------------+--------------+----------+------------------+--------------------+--------------------+\n",
      "only showing top 20 rows\n",
      "\n"
     ]
    }
   ],
   "source": [
    "from pyspark.sql import functions as F\n",
    "\n",
    "df = (\n",
    "    spark.read.json(\n",
    "        f\"{root}/models/evaluation_embeddings_logistic_binary/v4/*/*/perf/*.json\"\n",
    "    )\n",
    "    .withColumn(\"filename\", F.input_file_name())\n",
    "    .withColumn(\"feature\", F.split(F.col(\"filename\"), \"/\").getItem(10))\n",
    ")\n",
    "df.show()"
   ]
  },
  {
   "cell_type": "code",
   "execution_count": 3,
   "metadata": {},
   "outputs": [
    {
     "name": "stdout",
     "output_type": "stream",
     "text": [
      "+-----------+-------------------------------+------------+-------+----------+\n",
      "|label      |feature                        |avg_train_f1|test_f1|train_time|\n",
      "+-----------+-------------------------------+------------+-------+----------+\n",
      "|is_active  |emb_entity_detection_v2_dct_d32|0.81        |0.576  |19        |\n",
      "|is_active  |emb_entity_detection_v2        |0.843       |0.575  |100       |\n",
      "|is_active  |emb_vanilla_yolov8n            |0.843       |0.575  |93        |\n",
      "|is_active  |emb_entity_detection_v2_dctn   |0.844       |0.533  |44        |\n",
      "|is_active  |emb_entity_detection_v2_dct_d64|0.817       |0.479  |19        |\n",
      "|is_active  |emb_entity_detection_v2_dct_d8 |0.743       |0.432  |8         |\n",
      "|is_active  |emb_entity_detection_v2_dct_d16|0.789       |0.375  |12        |\n",
      "|is_active  |emb_vanilla_yolov8n_dctn       |0.788       |0.37   |108       |\n",
      "|is_match   |emb_entity_detection_v2_dct_d64|0.908       |0.626  |11        |\n",
      "|is_match   |emb_vanilla_yolov8n            |0.954       |0.582  |94        |\n",
      "|is_match   |emb_entity_detection_v2        |0.954       |0.582  |129       |\n",
      "|is_match   |emb_entity_detection_v2_dct_d16|0.915       |0.558  |18        |\n",
      "|is_match   |emb_vanilla_yolov8n_dctn       |0.928       |0.542  |75        |\n",
      "|is_match   |emb_entity_detection_v2_dct_d32|0.9         |0.533  |17        |\n",
      "|is_match   |emb_entity_detection_v2_dct_d8 |0.903       |0.528  |16        |\n",
      "|is_match   |emb_entity_detection_v2_dctn   |0.923       |0.523  |41        |\n",
      "|is_standing|emb_entity_detection_v2_dct_d8 |0.761       |0.853  |7         |\n",
      "|is_standing|emb_entity_detection_v2_dctn   |0.851       |0.742  |45        |\n",
      "|is_standing|emb_entity_detection_v2_dct_d16|0.829       |0.706  |15        |\n",
      "|is_standing|emb_vanilla_yolov8n_dctn       |0.859       |0.67   |107       |\n",
      "|is_standing|emb_entity_detection_v2_dct_d32|0.835       |0.66   |19        |\n",
      "|is_standing|emb_entity_detection_v2_dct_d64|0.818       |0.574  |19        |\n",
      "|is_standing|emb_entity_detection_v2        |0.856       |0.196  |93        |\n",
      "|is_standing|emb_vanilla_yolov8n            |0.856       |0.196  |82        |\n",
      "+-----------+-------------------------------+------------+-------+----------+\n",
      "\n"
     ]
    }
   ],
   "source": [
    "clean = df.select(\n",
    "    \"label\",\n",
    "    \"feature\",\n",
    "    F.round(F.col(\"avg_metrics\")[0], 3).alias(\"avg_train_f1\"),\n",
    "    F.round(\"test_metric\", 3).alias(\"test_f1\"),\n",
    "    F.col(\"train_time\").cast(\"integer\").alias(\"train_time\"),\n",
    ").orderBy(\"label\", F.desc(\"test_f1\"))\n",
    "\n",
    "clean.show(truncate=False, n=100)"
   ]
  },
  {
   "cell_type": "code",
   "execution_count": 4,
   "metadata": {},
   "outputs": [
    {
     "name": "stdout",
     "output_type": "stream",
     "text": [
      "+-----------+-------------------------------+------------+-------+----------+\n",
      "|label      |feature                        |avg_train_f1|test_f1|train_time|\n",
      "+-----------+-------------------------------+------------+-------+----------+\n",
      "|is_active  |emb_entity_detection_v2_dct_d16|0.789       |0.375  |12        |\n",
      "|is_match   |emb_entity_detection_v2_dct_d16|0.915       |0.558  |18        |\n",
      "|is_standing|emb_entity_detection_v2_dct_d16|0.829       |0.706  |15        |\n",
      "+-----------+-------------------------------+------------+-------+----------+\n",
      "\n"
     ]
    }
   ],
   "source": [
    "clean.where(F.col(\"feature\").contains(\"dct_d16\")).show(truncate=False)"
   ]
  }
 ],
 "metadata": {
  "kernelspec": {
   "display_name": ".venv",
   "language": "python",
   "name": "python3"
  },
  "language_info": {
   "codemirror_mode": {
    "name": "ipython",
    "version": 3
   },
   "file_extension": ".py",
   "mimetype": "text/x-python",
   "name": "python",
   "nbconvert_exporter": "python",
   "pygments_lexer": "ipython3",
   "version": "3.10.12"
  }
 },
 "nbformat": 4,
 "nbformat_minor": 2
}
