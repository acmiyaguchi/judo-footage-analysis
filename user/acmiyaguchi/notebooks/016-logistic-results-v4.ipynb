{
 "cells": [
  {
   "cell_type": "code",
   "execution_count": 1,
   "metadata": {},
   "outputs": [
    {
     "name": "stderr",
     "output_type": "stream",
     "text": [
      "Warning: Ignoring non-Spark config property: mem\n",
      "24/04/15 14:31:26 WARN Utils: Your hostname, gtlpc108.georgiatech-metz.fr resolves to a loopback address: 127.0.1.1; using 192.93.8.108 instead (on interface enp0s31f6)\n",
      "24/04/15 14:31:26 WARN Utils: Set SPARK_LOCAL_IP if you need to bind to another address\n",
      "Setting default log level to \"WARN\".\n",
      "To adjust logging level use sc.setLogLevel(newLevel). For SparkR, use setLogLevel(newLevel).\n",
      "24/04/15 14:31:27 WARN NativeCodeLoader: Unable to load native-hadoop library for your platform... using builtin-java classes where applicable\n",
      "24/04/15 14:31:27 WARN SparkConf: Note that spark.local.dir will be overridden by the value set by the cluster manager (via SPARK_LOCAL_DIRS in mesos/standalone/kubernetes and LOCAL_DIRS in YARN).\n"
     ]
    },
    {
     "data": {
      "text/html": [
       "\n",
       "            <div>\n",
       "                <p><b>SparkSession - in-memory</b></p>\n",
       "                \n",
       "        <div>\n",
       "            <p><b>SparkContext</b></p>\n",
       "\n",
       "            <p><a href=\"http://GTL-PC108.msad.georgiatech-metz.fr:4040\">Spark UI</a></p>\n",
       "\n",
       "            <dl>\n",
       "              <dt>Version</dt>\n",
       "                <dd><code>v3.5.1</code></dd>\n",
       "              <dt>Master</dt>\n",
       "                <dd><code>local[4]</code></dd>\n",
       "              <dt>AppName</dt>\n",
       "                <dd><code>spark-1713184283</code></dd>\n",
       "            </dl>\n",
       "        </div>\n",
       "        \n",
       "            </div>\n",
       "        "
      ],
      "text/plain": [
       "<pyspark.sql.session.SparkSession at 0x7f2a2a7c5b10>"
      ]
     },
     "execution_count": 1,
     "metadata": {},
     "output_type": "execute_result"
    }
   ],
   "source": [
    "from judo_footage_analysis.utils import get_spark\n",
    "\n",
    "root = \"/cs-share/pradalier/tmp/judo\"\n",
    "\n",
    "spark = get_spark(cores=4, mem=\"1g\")\n",
    "spark"
   ]
  },
  {
   "cell_type": "code",
   "execution_count": 2,
   "metadata": {},
   "outputs": [
    {
     "name": "stderr",
     "output_type": "stream",
     "text": [
      "                                                                                \r"
     ]
    },
    {
     "name": "stdout",
     "output_type": "stream",
     "text": [
      "+--------------------+-----------+-----------+--------------------+-------------------+-------------+---------+-------------------+--------------+----------+------------------+--------------------+--------------------+\n",
      "|         avg_metrics|      label|metric_name|         std_metrics|        test_metric|test_positive|test_size|          test_time|train_positive|train_size|        train_time|            filename|             feature|\n",
      "+--------------------+-----------+-----------+--------------------+-------------------+-------------+---------+-------------------+--------------+----------+------------------+--------------------+--------------------+\n",
      "|[0.7891663451795221]|  is_active|         f1|[0.7891663451795221]|0.37500000000000006|           45|       90|0.47534132993314415|           238|       480|12.309672495000996|file:///cs-share/...|emb_entity_detect...|\n",
      "|[0.8351040324625366]|is_standing|         f1|[0.8351040324625366]| 0.6602469135802469|            3|       90|0.46770033007487655|           103|       480|19.242219845065847|file:///cs-share/...|emb_entity_detect...|\n",
      "|[0.8578047752142948]|is_standing|         f1|[0.8578047752142948]| 0.6110769230769231|            3|       90| 0.5549071539999204|           103|       480|17.264501515999655|file:///cs-share/...|emb_entity_detect...|\n",
      "|[0.8291456240662577]|is_standing|         f1|[0.8291456240662577]| 0.7059523809523809|            3|       90| 0.5407315240008757|           103|       480|15.316188284079544|file:///cs-share/...|emb_entity_detect...|\n",
      "|[0.7676683588757102]|  is_active|         f1|[0.7676683588757102]|0.40776418242491663|           43|       87| 0.5511757200583816|           232|       464|19.867113179061562|file:///cs-share/...|emb_entity_detect...|\n",
      "|[0.8228928096202738]|is_standing|         f1|[0.8228928096202738]| 0.5940229885057471|            2|       87| 0.5197259560227394|           101|       464|18.890352144022472|file:///cs-share/...|emb_entity_detect...|\n",
      "|[0.7674563079569582]|  is_active|         f1|[0.7674563079569582]|0.38308623466044756|           39|       81| 0.5313878320157528|           219|       432|19.614898075931706|file:///cs-share/...|emb_entity_detect...|\n",
      "|[0.8184234938462276]|is_standing|         f1|[0.8184234938462276]| 0.5739583333333333|            3|       90|0.45799737493507564|           103|       480| 19.67008510301821|file:///cs-share/...|emb_entity_detect...|\n",
      "|[0.7613937620984927]|is_standing|         f1|[0.7613937620984927]| 0.8525879917184265|            3|       90| 0.5570264949928969|           103|       480|7.8662000600015745|file:///cs-share/...|emb_entity_detect...|\n",
      "|[0.7907373982276255]|is_standing|         f1|[0.7907373982276255]| 0.7147117657755957|            3|       90| 0.4502750110004854|           103|       480|14.564386824999929|file:///cs-share/...|emb_entity_detect...|\n",
      "|[0.7313174978524978]|is_standing|         f1|[0.7313174978524978]| 0.7310014057719343|            2|       87| 0.5556490079998184|           101|       464|20.477424958000483|file:///cs-share/...|emb_entity_detect...|\n",
      "|[0.6941400950287347]|  is_active|         f1|[0.6941400950287347]|0.38134430727023316|           39|       81| 0.5977608069997586|           219|       432|21.167774923999787|file:///cs-share/...|emb_entity_detect...|\n",
      "|[0.8189581814241889]|is_standing|         f1|[0.8189581814241889]| 0.7652117996945583|            2|       87| 0.6267670730003374|           101|       464|23.666708814999765|file:///cs-share/...|emb_entity_detect...|\n",
      "|[0.8192809414062016]|is_standing|         f1|[0.8192809414062016]| 0.7333333333333333|            3|       90| 0.5309483219998583|           103|       480|20.662742490999335|file:///cs-share/...|emb_entity_detect...|\n",
      "|[0.8513022328631775]|  is_active|         f1|[0.8513022328631775]| 0.4155844155844156|           45|       90| 0.5494408749996182|           238|       480|20.130996946000323|file:///cs-share/...|emb_entity_detect...|\n",
      "|[0.8022833320775163]|is_standing|         f1|[0.8022833320775163]| 0.5767042404723564|            2|       81| 0.4846892920322716|            98|       432|19.939180481014773|file:///cs-share/...|emb_entity_detect...|\n",
      "|[0.8140876733468487]|is_standing|         f1|[0.8140876733468487]| 0.6153846153846153|            0|       72| 0.5131009460892528|            98|       384|19.556748043978587|file:///cs-share/...|emb_entity_detect...|\n",
      "|[0.8097080943239492]|  is_active|         f1|[0.8097080943239492]| 0.5763799743260591|           45|       90|0.49727280298247933|           238|       480| 19.34466094104573|file:///cs-share/...|emb_entity_detect...|\n",
      "|[0.7884515570072118]|  is_active|         f1|[0.7884515570072118]| 0.5594900028977108|           43|       87| 0.5173563610296696|           232|       464|18.640045803040266|file:///cs-share/...|emb_entity_detect...|\n",
      "|[0.8294303936300403]|is_standing|         f1|[0.8294303936300403]| 0.6661442006269593|            2|       87| 0.5646682269871235|           101|       464| 17.99779088399373|file:///cs-share/...|emb_entity_detect...|\n",
      "+--------------------+-----------+-----------+--------------------+-------------------+-------------+---------+-------------------+--------------+----------+------------------+--------------------+--------------------+\n",
      "only showing top 20 rows\n",
      "\n"
     ]
    }
   ],
   "source": [
    "from pyspark.sql import functions as F, Window\n",
    "\n",
    "df = (\n",
    "    spark.read.json(\n",
    "        f\"{root}/models/evaluation_embeddings_logistic_binary/v4/*/*/perf/*.json\"\n",
    "    )\n",
    "    .withColumn(\"filename\", F.input_file_name())\n",
    "    .withColumn(\"feature\", F.split(F.col(\"filename\"), \"/\").getItem(10))\n",
    ")\n",
    "df.show()"
   ]
  },
  {
   "cell_type": "code",
   "execution_count": 13,
   "metadata": {},
   "outputs": [
    {
     "name": "stdout",
     "output_type": "stream",
     "text": [
      "+-----------+--------------------+------------+-------+----------+\n",
      "|label      |feature             |avg_train_f1|test_f1|train_time|\n",
      "+-----------+--------------------+------------+-------+----------+\n",
      "|is active  |fine tune v3 dct d8 |0.611       |0.783  |7         |\n",
      "|is active  |fine tune v2 dct d32|0.81        |0.576  |19        |\n",
      "|is active  |fine tune v2        |0.843       |0.575  |100       |\n",
      "|is active  |vanilla yolov8n     |0.843       |0.575  |93        |\n",
      "|is active  |fine tune v2 dctn   |0.844       |0.533  |44        |\n",
      "|is active  |fine tune v3        |0.817       |0.516  |23        |\n",
      "|is active  |fine tune v3 dct d32|0.705       |0.504  |20        |\n",
      "|is active  |fine tune v3 dct d16|0.672       |0.483  |14        |\n",
      "|is active  |fine tune v2 dct d64|0.817       |0.479  |19        |\n",
      "|is active  |fine tune v3 dctn   |0.755       |0.475  |53        |\n",
      "|is active  |fine tune v2 dct d8 |0.743       |0.432  |8         |\n",
      "|is active  |fine tune v1        |0.851       |0.416  |20        |\n",
      "|is active  |fine tune v2 dct d16|0.789       |0.375  |12        |\n",
      "|is active  |vanilla yolov8n dctn|0.788       |0.37   |108       |\n",
      "|is active  |fine tune v3 dct d64|0.787       |0.349  |20        |\n",
      "|is match   |fine tune v3 dctn   |0.959       |0.658  |36        |\n",
      "|is match   |fine tune v2 dct d64|0.908       |0.626  |11        |\n",
      "|is match   |fine tune v1        |0.964       |0.613  |27        |\n",
      "|is match   |fine tune v3 dct d16|0.884       |0.611  |16        |\n",
      "|is match   |fine tune v3 dct d8 |0.841       |0.582  |8         |\n",
      "|is match   |fine tune v2        |0.954       |0.582  |129       |\n",
      "|is match   |vanilla yolov8n     |0.954       |0.582  |94        |\n",
      "|is match   |fine tune v3 dct d32|0.909       |0.576  |20        |\n",
      "|is match   |fine tune v3        |0.965       |0.568  |32        |\n",
      "|is match   |fine tune v2 dct d16|0.915       |0.558  |18        |\n",
      "|is match   |vanilla yolov8n dctn|0.928       |0.542  |75        |\n",
      "|is match   |fine tune v2 dct d32|0.9         |0.533  |17        |\n",
      "|is match   |fine tune v2 dct d8 |0.903       |0.528  |16        |\n",
      "|is match   |fine tune v2 dctn   |0.923       |0.523  |41        |\n",
      "|is match   |fine tune v3 dct d64|0.933       |0.511  |11        |\n",
      "|is standing|fine tune v3 dctn   |0.853       |0.866  |48        |\n",
      "|is standing|fine tune v2 dct d8 |0.761       |0.853  |7         |\n",
      "|is standing|fine tune v3 dct d8 |0.749       |0.818  |7         |\n",
      "|is standing|fine tune v3 dct d32|0.83        |0.758  |20        |\n",
      "|is standing|fine tune v2 dctn   |0.851       |0.742  |45        |\n",
      "|is standing|fine tune v3 dct d64|0.819       |0.733  |20        |\n",
      "|is standing|fine tune v3 dct d16|0.791       |0.715  |14        |\n",
      "|is standing|fine tune v2 dct d16|0.829       |0.706  |15        |\n",
      "|is standing|vanilla yolov8n dctn|0.859       |0.67   |107       |\n",
      "|is standing|fine tune v2 dct d32|0.835       |0.66   |19        |\n",
      "|is standing|fine tune v1        |0.858       |0.611  |17        |\n",
      "|is standing|fine tune v3        |0.855       |0.605  |23        |\n",
      "|is standing|fine tune v2 dct d64|0.818       |0.574  |19        |\n",
      "|is standing|fine tune v2        |0.856       |0.196  |93        |\n",
      "|is standing|vanilla yolov8n     |0.856       |0.196  |82        |\n",
      "+-----------+--------------------+------------+-------+----------+\n",
      "\n"
     ]
    }
   ],
   "source": [
    "clean = df.select(\n",
    "    F.regexp_replace(\"label\", \"_\", \" \").alias(\"label\"),\n",
    "    F.regexp_replace(\n",
    "        F.regexp_replace(\n",
    "            F.regexp_replace(\"feature\", \"emb_entity_detection\", \"fine_tune\"),\n",
    "            \"emb_vanilla\",\n",
    "            \"vanilla\",\n",
    "        ),\n",
    "        \"_\",\n",
    "        \" \",\n",
    "    ).alias(\"feature\"),\n",
    "    F.round(F.col(\"avg_metrics\")[0], 3).alias(\"avg_train_f1\"),\n",
    "    F.round(\"test_metric\", 3).alias(\"test_f1\"),\n",
    "    F.col(\"train_time\").cast(\"integer\").alias(\"train_time\"),\n",
    ").orderBy(\"label\", F.desc(\"test_f1\"))\n",
    "\n",
    "clean.where(~F.col(\"feature\").contains(\"lag\")).show(truncate=False, n=100)"
   ]
  },
  {
   "cell_type": "code",
   "execution_count": 14,
   "metadata": {},
   "outputs": [
    {
     "name": "stdout",
     "output_type": "stream",
     "text": [
      "+-----------+--------------------+------------+-------+\n",
      "|label      |feature             |avg_train_f1|test_f1|\n",
      "+-----------+--------------------+------------+-------+\n",
      "|is active  |fine tune v3 dct d8 |0.611       |0.783  |\n",
      "|is active  |fine tune v2 dct d32|0.81        |0.576  |\n",
      "|is active  |fine tune v2        |0.843       |0.575  |\n",
      "|is active  |vanilla yolov8n     |0.843       |0.575  |\n",
      "|is active  |fine tune v2 dctn   |0.844       |0.533  |\n",
      "|is match   |fine tune v3 dctn   |0.959       |0.658  |\n",
      "|is match   |fine tune v2 dct d64|0.908       |0.626  |\n",
      "|is match   |fine tune v1        |0.964       |0.613  |\n",
      "|is match   |fine tune v3 dct d16|0.884       |0.611  |\n",
      "|is match   |fine tune v2        |0.954       |0.582  |\n",
      "|is standing|fine tune v3 dctn   |0.853       |0.866  |\n",
      "|is standing|fine tune v2 dct d8 |0.761       |0.853  |\n",
      "|is standing|fine tune v3 dct d8 |0.749       |0.818  |\n",
      "|is standing|fine tune v3 dct d32|0.83        |0.758  |\n",
      "|is standing|fine tune v2 dctn   |0.851       |0.742  |\n",
      "+-----------+--------------------+------------+-------+\n",
      "\n",
      "\\begin{tabular}{llrr}\n",
      "\\toprule\n",
      "label & feature & avg_train_f1 & test_f1 \\\\\n",
      "\\midrule\n",
      "is active & fine tune v3 dct d8 & 0.610000 & 0.780000 \\\\\n",
      "is active & fine tune v2 dct d32 & 0.810000 & 0.580000 \\\\\n",
      "is active & fine tune v2 & 0.840000 & 0.570000 \\\\\n",
      "is active & vanilla yolov8n & 0.840000 & 0.570000 \\\\\n",
      "is active & fine tune v2 dctn & 0.840000 & 0.530000 \\\\\n",
      "is match & fine tune v3 dctn & 0.960000 & 0.660000 \\\\\n",
      "is match & fine tune v2 dct d64 & 0.910000 & 0.630000 \\\\\n",
      "is match & fine tune v1 & 0.960000 & 0.610000 \\\\\n",
      "is match & fine tune v3 dct d16 & 0.880000 & 0.610000 \\\\\n",
      "is match & fine tune v2 & 0.950000 & 0.580000 \\\\\n",
      "is standing & fine tune v3 dctn & 0.850000 & 0.870000 \\\\\n",
      "is standing & fine tune v2 dct d8 & 0.760000 & 0.850000 \\\\\n",
      "is standing & fine tune v3 dct d8 & 0.750000 & 0.820000 \\\\\n",
      "is standing & fine tune v3 dct d32 & 0.830000 & 0.760000 \\\\\n",
      "is standing & fine tune v2 dctn & 0.850000 & 0.740000 \\\\\n",
      "\\bottomrule\n",
      "\\end{tabular}\n",
      "\n"
     ]
    }
   ],
   "source": [
    "import pandas as pd\n",
    "\n",
    "res = (\n",
    "    clean.where(~F.col(\"feature\").contains(\"lag\"))\n",
    "    .withColumn(\n",
    "        \"rank\",\n",
    "        F.row_number().over(Window.partitionBy(\"label\").orderBy(F.desc(\"test_f1\"))),\n",
    "    )\n",
    "    .where(F.col(\"rank\") <= 5)\n",
    "    .drop(\"rank\", \"train_time\")\n",
    ")\n",
    "\n",
    "res.show(truncate=False)\n",
    "pd.set_option(\"display.precision\", 2)\n",
    "print(res.toPandas().round(2).to_latex(index=False))"
   ]
  },
  {
   "cell_type": "code",
   "execution_count": 19,
   "metadata": {},
   "outputs": [
    {
     "name": "stdout",
     "output_type": "stream",
     "text": [
      "+-----------+-------------------------+------------+-------+\n",
      "|label      |feature                  |avg_train_f1|test_f1|\n",
      "+-----------+-------------------------+------------+-------+\n",
      "|is active  |fine tune v3 dct d16 lag1|0.686       |0.515  |\n",
      "|is active  |fine tune v3 dct d16     |0.672       |0.483  |\n",
      "|is active  |fine tune v2 dct d16 lag1|0.768       |0.408  |\n",
      "|is active  |fine tune v2 dct d16 lag2|0.767       |0.383  |\n",
      "|is active  |fine tune v3 dct d16 lag2|0.694       |0.381  |\n",
      "|is match   |fine tune v3 dct d16 lag1|0.904       |0.621  |\n",
      "|is match   |fine tune v3 dct d16     |0.884       |0.611  |\n",
      "|is match   |fine tune v2 dct d16     |0.915       |0.558  |\n",
      "|is match   |fine tune v3 dct d16 lag2|0.915       |0.557  |\n",
      "|is match   |fine tune v2 dct d16 lag3|0.939       |0.533  |\n",
      "|is standing|fine tune v3 dct d16 lag2|0.747       |0.745  |\n",
      "|is standing|fine tune v3 dct d16 lag3|0.79        |0.737  |\n",
      "|is standing|fine tune v3 dct d16 lag1|0.731       |0.731  |\n",
      "|is standing|fine tune v3 dct d16     |0.791       |0.715  |\n",
      "|is standing|fine tune v2 dct d16     |0.829       |0.706  |\n",
      "+-----------+-------------------------+------------+-------+\n",
      "\n",
      "\\begin{tabular}{llrr}\n",
      "\\toprule\n",
      "label & feature & avg_train_f1 & test_f1 \\\\\n",
      "\\midrule\n",
      "is active & fine tune v3 dct d16 lag1 & 0.690000 & 0.520000 \\\\\n",
      "is active & fine tune v3 dct d16 & 0.670000 & 0.480000 \\\\\n",
      "is active & fine tune v2 dct d16 lag1 & 0.770000 & 0.410000 \\\\\n",
      "is active & fine tune v2 dct d16 lag2 & 0.770000 & 0.380000 \\\\\n",
      "is active & fine tune v3 dct d16 lag2 & 0.690000 & 0.380000 \\\\\n",
      "is match & fine tune v3 dct d16 lag1 & 0.900000 & 0.620000 \\\\\n",
      "is match & fine tune v3 dct d16 & 0.880000 & 0.610000 \\\\\n",
      "is match & fine tune v2 dct d16 & 0.920000 & 0.560000 \\\\\n",
      "is match & fine tune v3 dct d16 lag2 & 0.920000 & 0.560000 \\\\\n",
      "is match & fine tune v2 dct d16 lag3 & 0.940000 & 0.530000 \\\\\n",
      "is standing & fine tune v3 dct d16 lag2 & 0.750000 & 0.740000 \\\\\n",
      "is standing & fine tune v3 dct d16 lag3 & 0.790000 & 0.740000 \\\\\n",
      "is standing & fine tune v3 dct d16 lag1 & 0.730000 & 0.730000 \\\\\n",
      "is standing & fine tune v3 dct d16 & 0.790000 & 0.720000 \\\\\n",
      "is standing & fine tune v2 dct d16 & 0.830000 & 0.710000 \\\\\n",
      "\\bottomrule\n",
      "\\end{tabular}\n",
      "\n"
     ]
    }
   ],
   "source": [
    "res = (\n",
    "    clean.where(F.col(\"feature\").contains(\"dct d16\"))\n",
    "    .drop(\"train_time\")\n",
    "    .withColumn(\n",
    "        \"rank\",\n",
    "        F.row_number().over(Window.partitionBy(\"label\").orderBy(F.desc(\"test_f1\"))),\n",
    "    )\n",
    "    .where(F.col(\"rank\") <= 5)\n",
    "    .drop(\"rank\")\n",
    ")\n",
    "res.show(truncate=False)\n",
    "print(res.toPandas().round(2).to_latex(index=False))"
   ]
  }
 ],
 "metadata": {
  "kernelspec": {
   "display_name": ".venv",
   "language": "python",
   "name": "python3"
  },
  "language_info": {
   "codemirror_mode": {
    "name": "ipython",
    "version": 3
   },
   "file_extension": ".py",
   "mimetype": "text/x-python",
   "name": "python",
   "nbconvert_exporter": "python",
   "pygments_lexer": "ipython3",
   "version": "3.10.12"
  }
 },
 "nbformat": 4,
 "nbformat_minor": 2
}
