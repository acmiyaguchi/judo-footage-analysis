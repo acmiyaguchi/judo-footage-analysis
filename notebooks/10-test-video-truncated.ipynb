{
 "cells": [
  {
   "cell_type": "markdown",
   "id": "35963382-5665-48dd-8976-f1b6e77338de",
   "metadata": {},
   "source": [
    "# test video truncated\n",
    "\n",
    "The purpose of this notebook is to truncate two of the videos to be used as a testing dataset. We choose a video with and without the smoothcomp overlay which will have different properties. We choose a 10 minute segment that is an hour into the video."
   ]
  },
  {
   "cell_type": "code",
   "execution_count": null,
   "id": "8e0c17c3-769c-40cf-b8c7-73e9ce302566",
   "metadata": {},
   "outputs": [],
   "source": [
    "from pathlib import Path\n",
    "import shutil\n",
    "\n",
    "# unfortunately, these video titles are directly taken\n",
    "# from the original youtube titles.\n",
    "paths = sorted(Path(\"/mnt/students/video_judo\").glob(\"*.mp4\"))\n",
    "paths"
   ]
  },
  {
   "cell_type": "code",
   "execution_count": null,
   "id": "8a49309c-5117-4bf9-96f1-0b8d57995641",
   "metadata": {},
   "outputs": [],
   "source": [
    "# let's keep mat 2 and mat 8\n",
    "# first let's move these over to a local directory and then truncate it\n",
    "\n",
    "tmpdir = Path.home() / \"local_storage/judo-footage-analysis/raw\"\n",
    "tmpdir.mkdir(exist_ok=True, parents=True)\n",
    "\n",
    "%time shutil.copy(paths[1], tmpdir / \"mat-2.mp4\")\n",
    "%time shutil.copy(paths[7], tmpdir / \"mat-7.mp4\")"
   ]
  },
  {
   "cell_type": "code",
   "execution_count": null,
   "id": "04b93d46-849a-4eac-97a3-5b6a640771e3",
   "metadata": {},
   "outputs": [],
   "source": [
    "! ls {tmpdir}"
   ]
  }
 ],
 "metadata": {
  "kernelspec": {
   "display_name": "Python 3 (ipykernel)",
   "language": "python",
   "name": "python3"
  },
  "language_info": {
   "codemirror_mode": {
    "name": "ipython",
    "version": 3
   },
   "file_extension": ".py",
   "mimetype": "text/x-python",
   "name": "python",
   "nbconvert_exporter": "python",
   "pygments_lexer": "ipython3",
   "version": "3.8.10"
  }
 },
 "nbformat": 4,
 "nbformat_minor": 5
}
