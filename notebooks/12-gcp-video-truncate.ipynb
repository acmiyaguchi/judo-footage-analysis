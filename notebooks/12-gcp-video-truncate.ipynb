{
 "cells": [
  {
   "cell_type": "markdown",
   "metadata": {},
   "source": [
    "# truncate video \n",
    "\n",
    "- https://shotstack.io/learn/use-ffmpeg-to-trim-video/"
   ]
  },
  {
   "cell_type": "code",
   "execution_count": 4,
   "metadata": {},
   "outputs": [
    {
     "name": "stdout",
     "output_type": "stream",
     "text": [
      "ffmpeg version 4.3.6-0+deb11u1 Copyright (c) 2000-2023 the FFmpeg developers\n",
      "  built with gcc 10 (Debian 10.2.1-6)\n",
      "  configuration: --prefix=/usr --extra-version=0+deb11u1 --toolchain=hardened --libdir=/usr/lib/x86_64-linux-gnu --incdir=/usr/include/x86_64-linux-gnu --arch=amd64 --enable-gpl --disable-stripping --enable-avresample --disable-filter=resample --enable-gnutls --enable-ladspa --enable-libaom --enable-libass --enable-libbluray --enable-libbs2b --enable-libcaca --enable-libcdio --enable-libcodec2 --enable-libdav1d --enable-libflite --enable-libfontconfig --enable-libfreetype --enable-libfribidi --enable-libgme --enable-libgsm --enable-libjack --enable-libmp3lame --enable-libmysofa --enable-libopenjpeg --enable-libopenmpt --enable-libopus --enable-libpulse --enable-librabbitmq --enable-librsvg --enable-librubberband --enable-libshine --enable-libsnappy --enable-libsoxr --enable-libspeex --enable-libsrt --enable-libssh --enable-libtheora --enable-libtwolame --enable-libvidstab --enable-libvorbis --enable-libvpx --enable-libwavpack --enable-libwebp --enable-libx265 --enable-libxml2 --enable-libxvid --enable-libzmq --enable-libzvbi --enable-lv2 --enable-omx --enable-openal --enable-opencl --enable-opengl --enable-sdl2 --enable-pocketsphinx --enable-libmfx --enable-libdc1394 --enable-libdrm --enable-libiec61883 --enable-chromaprint --enable-frei0r --enable-libx264 --enable-shared\n",
      "  libavutil      56. 51.100 / 56. 51.100\n",
      "  libavcodec     58. 91.100 / 58. 91.100\n",
      "  libavformat    58. 45.100 / 58. 45.100\n",
      "  libavdevice    58. 10.100 / 58. 10.100\n",
      "  libavfilter     7. 85.100 /  7. 85.100\n",
      "  libavresample   4.  0.  0 /  4.  0.  0\n",
      "  libswscale      5.  7.100 /  5.  7.100\n",
      "  libswresample   3.  7.100 /  3.  7.100\n",
      "  libpostproc    55.  7.100 / 55.  7.100\n",
      "Input #0, mov,mp4,m4a,3gp,3g2,mj2, from '/home/anthony/judo/raw/mat-2.mp4':\n",
      "  Metadata:\n",
      "    major_brand     : mp42\n",
      "    minor_version   : 0\n",
      "    compatible_brands: isommp42\n",
      "    creation_time   : 2023-11-20T09:18:08.000000Z\n",
      "  Duration: 11:45:18.04, start: 0.000000, bitrate: 1041 kb/s\n",
      "    Stream #0:0(und): Video: h264 (High) (avc1 / 0x31637661), yuv420p(tv, bt709), 1280x720 [SAR 1:1 DAR 16:9], 910 kb/s, 30 fps, 30 tbr, 15360 tbn, 60 tbc (default)\n",
      "    Metadata:\n",
      "      creation_time   : 2023-11-20T09:18:08.000000Z\n",
      "      handler_name    : ISO Media file produced by Google Inc. Created on: 11/20/2023.\n",
      "    Stream #0:1(eng): Audio: aac (LC) (mp4a / 0x6134706D), 44100 Hz, stereo, fltp, 128 kb/s (default)\n",
      "    Metadata:\n",
      "      creation_time   : 2023-11-20T09:18:08.000000Z\n",
      "      handler_name    : ISO Media file produced by Google Inc. Created on: 11/20/2023.\n",
      "Output #0, mp4, to '/home/anthony/judo/processed/mat-2-trunc.mp4':\n",
      "  Metadata:\n",
      "    major_brand     : mp42\n",
      "    minor_version   : 0\n",
      "    compatible_brands: isommp42\n",
      "    encoder         : Lavf58.45.100\n",
      "    Stream #0:0(und): Video: h264 (High) (avc1 / 0x31637661), yuv420p(tv, bt709), 1280x720 [SAR 1:1 DAR 16:9], q=2-31, 910 kb/s, 30 fps, 30 tbr, 15360 tbn, 15360 tbc (default)\n",
      "    Metadata:\n",
      "      creation_time   : 2023-11-20T09:18:08.000000Z\n",
      "      handler_name    : ISO Media file produced by Google Inc. Created on: 11/20/2023.\n",
      "    Stream #0:1(eng): Audio: aac (LC) (mp4a / 0x6134706D), 44100 Hz, stereo, fltp, 128 kb/s (default)\n",
      "    Metadata:\n",
      "      creation_time   : 2023-11-20T09:18:08.000000Z\n",
      "      handler_name    : ISO Media file produced by Google Inc. Created on: 11/20/2023.\n",
      "Stream mapping:\n",
      "  Stream #0:0 -> #0:0 (copy)\n",
      "  Stream #0:1 -> #0:1 (copy)\n",
      "Press [q] to stop, [?] for help\n",
      "frame=17899 fps=4908 q=-1.0 Lsize=   79933kB time=00:09:59.97 bitrate=1091.4kbits/s speed= 165x    \n",
      "video:70003kB audio:9375kB subtitle:0kB other streams:0kB global headers:0kB muxing overhead: 0.699703%\n",
      "ffmpeg version 4.3.6-0+deb11u1 Copyright (c) 2000-2023 the FFmpeg developers\n",
      "  built with gcc 10 (Debian 10.2.1-6)\n",
      "  configuration: --prefix=/usr --extra-version=0+deb11u1 --toolchain=hardened --libdir=/usr/lib/x86_64-linux-gnu --incdir=/usr/include/x86_64-linux-gnu --arch=amd64 --enable-gpl --disable-stripping --enable-avresample --disable-filter=resample --enable-gnutls --enable-ladspa --enable-libaom --enable-libass --enable-libbluray --enable-libbs2b --enable-libcaca --enable-libcdio --enable-libcodec2 --enable-libdav1d --enable-libflite --enable-libfontconfig --enable-libfreetype --enable-libfribidi --enable-libgme --enable-libgsm --enable-libjack --enable-libmp3lame --enable-libmysofa --enable-libopenjpeg --enable-libopenmpt --enable-libopus --enable-libpulse --enable-librabbitmq --enable-librsvg --enable-librubberband --enable-libshine --enable-libsnappy --enable-libsoxr --enable-libspeex --enable-libsrt --enable-libssh --enable-libtheora --enable-libtwolame --enable-libvidstab --enable-libvorbis --enable-libvpx --enable-libwavpack --enable-libwebp --enable-libx265 --enable-libxml2 --enable-libxvid --enable-libzmq --enable-libzvbi --enable-lv2 --enable-omx --enable-openal --enable-opencl --enable-opengl --enable-sdl2 --enable-pocketsphinx --enable-libmfx --enable-libdc1394 --enable-libdrm --enable-libiec61883 --enable-chromaprint --enable-frei0r --enable-libx264 --enable-shared\n",
      "  libavutil      56. 51.100 / 56. 51.100\n",
      "  libavcodec     58. 91.100 / 58. 91.100\n",
      "  libavformat    58. 45.100 / 58. 45.100\n",
      "  libavdevice    58. 10.100 / 58. 10.100\n",
      "  libavfilter     7. 85.100 /  7. 85.100\n",
      "  libavresample   4.  0.  0 /  4.  0.  0\n",
      "  libswscale      5.  7.100 /  5.  7.100\n",
      "  libswresample   3.  7.100 /  3.  7.100\n",
      "  libpostproc    55.  7.100 / 55.  7.100\n",
      "Input #0, mov,mp4,m4a,3gp,3g2,mj2, from '/home/anthony/judo/raw/mat-8.mp4':\n",
      "  Metadata:\n",
      "    major_brand     : mp42\n",
      "    minor_version   : 0\n",
      "    compatible_brands: isommp42\n",
      "    creation_time   : 2023-11-20T09:05:25.000000Z\n",
      "  Duration: 11:54:55.87, start: 0.000000, bitrate: 1091 kb/s\n",
      "    Stream #0:0(und): Video: h264 (High) (avc1 / 0x31637661), yuv420p(tv, bt709), 1280x720 [SAR 1:1 DAR 16:9], 959 kb/s, 30 fps, 30 tbr, 15360 tbn, 60 tbc (default)\n",
      "    Metadata:\n",
      "      creation_time   : 2023-11-20T09:05:25.000000Z\n",
      "      handler_name    : ISO Media file produced by Google Inc. Created on: 11/20/2023.\n",
      "    Stream #0:1(eng): Audio: aac (LC) (mp4a / 0x6134706D), 44100 Hz, stereo, fltp, 128 kb/s (default)\n",
      "    Metadata:\n",
      "      creation_time   : 2023-11-20T09:05:25.000000Z\n",
      "      handler_name    : ISO Media file produced by Google Inc. Created on: 11/20/2023.\n",
      "Output #0, mp4, to '/home/anthony/judo/processed/mat-8-trunc.mp4':\n",
      "  Metadata:\n",
      "    major_brand     : mp42\n",
      "    minor_version   : 0\n",
      "    compatible_brands: isommp42\n",
      "    encoder         : Lavf58.45.100\n",
      "    Stream #0:0(und): Video: h264 (High) (avc1 / 0x31637661), yuv420p(tv, bt709), 1280x720 [SAR 1:1 DAR 16:9], q=2-31, 959 kb/s, 30 fps, 30 tbr, 15360 tbn, 15360 tbc (default)\n",
      "    Metadata:\n",
      "      creation_time   : 2023-11-20T09:05:25.000000Z\n",
      "      handler_name    : ISO Media file produced by Google Inc. Created on: 11/20/2023.\n",
      "    Stream #0:1(eng): Audio: aac (LC) (mp4a / 0x6134706D), 44100 Hz, stereo, fltp, 128 kb/s (default)\n",
      "    Metadata:\n",
      "      creation_time   : 2023-11-20T09:05:25.000000Z\n",
      "      handler_name    : ISO Media file produced by Google Inc. Created on: 11/20/2023.\n",
      "Stream mapping:\n",
      "  Stream #0:0 -> #0:0 (copy)\n",
      "  Stream #0:1 -> #0:1 (copy)\n",
      "Press [q] to stop, [?] for help\n",
      "frame=17921 fps=0.0 q=-1.0 Lsize=   86621kB time=00:09:59.99 bitrate=1182.7kbits/s speed= 728x    \n",
      "video:76691kB audio:9375kB subtitle:0kB other streams:0kB global headers:0kB muxing overhead: 0.644428%\n"
     ]
    }
   ],
   "source": [
    "data_path = \"/home/anthony/judo\"\n",
    "! mkdir -p {data_path}/processed\n",
    "! ffmpeg -y \\\n",
    "    -i {data_path}/raw/mat-2.mp4 \\\n",
    "    -ss 01:00:00 \\\n",
    "    -t 00:10:00 \\\n",
    "    -c:v copy -c:a copy \\\n",
    "    {data_path}/processed/mat-2-trunc.mp4\n",
    "! ffmpeg -y \\\n",
    "    -i {data_path}/raw/mat-8.mp4 \\\n",
    "    -ss 01:00:20 \\\n",
    "    -t 00:10:00 \\\n",
    "    -c:v copy -c:a copy \\\n",
    "    {data_path}/processed/mat-8-trunc.mp4"
   ]
  },
  {
   "cell_type": "code",
   "execution_count": 5,
   "metadata": {},
   "outputs": [
    {
     "name": "stdout",
     "output_type": "stream",
     "text": [
      "total 163M\n",
      "drwxr-xr-x 2 anthony anthony 4.0K Jan 16 12:18 .\n",
      "drwxr-xr-x 4 anthony anthony 4.0K Jan 16 12:15 ..\n",
      "-rw-r--r-- 1 anthony anthony  79M Jan 16 12:18 mat-2-trunc.mp4\n",
      "-rw-r--r-- 1 anthony anthony  85M Jan 16 12:18 mat-8-trunc.mp4\n"
     ]
    }
   ],
   "source": [
    "! ls -alh {data_path}/processed"
   ]
  }
 ],
 "metadata": {
  "kernelspec": {
   "display_name": "base",
   "language": "python",
   "name": "python3"
  },
  "language_info": {
   "codemirror_mode": {
    "name": "ipython",
    "version": 3
   },
   "file_extension": ".py",
   "mimetype": "text/x-python",
   "name": "python",
   "nbconvert_exporter": "python",
   "pygments_lexer": "ipython3",
   "version": "3.10.13"
  }
 },
 "nbformat": 4,
 "nbformat_minor": 2
}
