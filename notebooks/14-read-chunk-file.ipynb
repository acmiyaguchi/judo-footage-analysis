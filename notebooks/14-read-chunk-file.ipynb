{
 "cells": [
  {
   "cell_type": "code",
   "execution_count": 17,
   "metadata": {},
   "outputs": [
    {
     "name": "stdout",
     "output_type": "stream",
     "text": [
      "total 368K\n",
      "drwxrwsr-x 2 amiyaguc grad_students 4.0K Jan 17 19:23 .\n",
      "drwxr-sr-x 3 amiyaguc grad_students 4.0K Jan 17 19:05 ..\n",
      "-rw-rw-r-- 1 amiyaguc grad_students 357K Jan 17 19:27 chunk_0000.pkl.zstd\n"
     ]
    }
   ],
   "source": [
    "! ls -alh ../data/processed/mat-2-data"
   ]
  },
  {
   "cell_type": "code",
   "execution_count": 18,
   "metadata": {},
   "outputs": [
    {
     "data": {
      "text/html": [
       "<div>\n",
       "<style scoped>\n",
       "    .dataframe tbody tr th:only-of-type {\n",
       "        vertical-align: middle;\n",
       "    }\n",
       "\n",
       "    .dataframe tbody tr th {\n",
       "        vertical-align: top;\n",
       "    }\n",
       "\n",
       "    .dataframe thead th {\n",
       "        text-align: right;\n",
       "    }\n",
       "</style>\n",
       "<table border=\"1\" class=\"dataframe\">\n",
       "  <thead>\n",
       "    <tr style=\"text-align: right;\">\n",
       "      <th></th>\n",
       "      <th>frame_index</th>\n",
       "      <th>framerate</th>\n",
       "      <th>pred_boxes</th>\n",
       "      <th>scores</th>\n",
       "      <th>pred_classes</th>\n",
       "      <th>pred_keypoints</th>\n",
       "    </tr>\n",
       "  </thead>\n",
       "  <tbody>\n",
       "    <tr>\n",
       "      <th>0</th>\n",
       "      <td>0</td>\n",
       "      <td>10</td>\n",
       "      <td>([tensor(445.1837), tensor(210.4496), tensor(5...</td>\n",
       "      <td>[tensor(0.9989), tensor(0.9979), tensor(0.9976...</td>\n",
       "      <td>[tensor(0), tensor(0), tensor(0), tensor(0), t...</td>\n",
       "      <td>[[[tensor(491.4281), tensor(231.0679), tensor(...</td>\n",
       "    </tr>\n",
       "    <tr>\n",
       "      <th>1</th>\n",
       "      <td>1</td>\n",
       "      <td>10</td>\n",
       "      <td>([tensor(445.1837), tensor(210.4496), tensor(5...</td>\n",
       "      <td>[tensor(0.9989), tensor(0.9979), tensor(0.9976...</td>\n",
       "      <td>[tensor(0), tensor(0), tensor(0), tensor(0), t...</td>\n",
       "      <td>[[[tensor(491.4281), tensor(231.0679), tensor(...</td>\n",
       "    </tr>\n",
       "    <tr>\n",
       "      <th>2</th>\n",
       "      <td>2</td>\n",
       "      <td>10</td>\n",
       "      <td>([tensor(445.1837), tensor(210.4496), tensor(5...</td>\n",
       "      <td>[tensor(0.9989), tensor(0.9979), tensor(0.9976...</td>\n",
       "      <td>[tensor(0), tensor(0), tensor(0), tensor(0), t...</td>\n",
       "      <td>[[[tensor(491.4281), tensor(231.0679), tensor(...</td>\n",
       "    </tr>\n",
       "    <tr>\n",
       "      <th>3</th>\n",
       "      <td>3</td>\n",
       "      <td>10</td>\n",
       "      <td>([tensor(445.1837), tensor(210.4496), tensor(5...</td>\n",
       "      <td>[tensor(0.9989), tensor(0.9979), tensor(0.9976...</td>\n",
       "      <td>[tensor(0), tensor(0), tensor(0), tensor(0), t...</td>\n",
       "      <td>[[[tensor(491.4281), tensor(231.0679), tensor(...</td>\n",
       "    </tr>\n",
       "    <tr>\n",
       "      <th>4</th>\n",
       "      <td>4</td>\n",
       "      <td>10</td>\n",
       "      <td>([tensor(445.1837), tensor(210.4496), tensor(5...</td>\n",
       "      <td>[tensor(0.9989), tensor(0.9979), tensor(0.9976...</td>\n",
       "      <td>[tensor(0), tensor(0), tensor(0), tensor(0), t...</td>\n",
       "      <td>[[[tensor(491.4281), tensor(231.0679), tensor(...</td>\n",
       "    </tr>\n",
       "  </tbody>\n",
       "</table>\n",
       "</div>"
      ],
      "text/plain": [
       "   frame_index  framerate                                         pred_boxes  \\\n",
       "0            0         10  ([tensor(445.1837), tensor(210.4496), tensor(5...   \n",
       "1            1         10  ([tensor(445.1837), tensor(210.4496), tensor(5...   \n",
       "2            2         10  ([tensor(445.1837), tensor(210.4496), tensor(5...   \n",
       "3            3         10  ([tensor(445.1837), tensor(210.4496), tensor(5...   \n",
       "4            4         10  ([tensor(445.1837), tensor(210.4496), tensor(5...   \n",
       "\n",
       "                                              scores  \\\n",
       "0  [tensor(0.9989), tensor(0.9979), tensor(0.9976...   \n",
       "1  [tensor(0.9989), tensor(0.9979), tensor(0.9976...   \n",
       "2  [tensor(0.9989), tensor(0.9979), tensor(0.9976...   \n",
       "3  [tensor(0.9989), tensor(0.9979), tensor(0.9976...   \n",
       "4  [tensor(0.9989), tensor(0.9979), tensor(0.9976...   \n",
       "\n",
       "                                        pred_classes  \\\n",
       "0  [tensor(0), tensor(0), tensor(0), tensor(0), t...   \n",
       "1  [tensor(0), tensor(0), tensor(0), tensor(0), t...   \n",
       "2  [tensor(0), tensor(0), tensor(0), tensor(0), t...   \n",
       "3  [tensor(0), tensor(0), tensor(0), tensor(0), t...   \n",
       "4  [tensor(0), tensor(0), tensor(0), tensor(0), t...   \n",
       "\n",
       "                                      pred_keypoints  \n",
       "0  [[[tensor(491.4281), tensor(231.0679), tensor(...  \n",
       "1  [[[tensor(491.4281), tensor(231.0679), tensor(...  \n",
       "2  [[[tensor(491.4281), tensor(231.0679), tensor(...  \n",
       "3  [[[tensor(491.4281), tensor(231.0679), tensor(...  \n",
       "4  [[[tensor(491.4281), tensor(231.0679), tensor(...  "
      ]
     },
     "execution_count": 18,
     "metadata": {},
     "output_type": "execute_result"
    }
   ],
   "source": [
    "import pandas as pd\n",
    "\n",
    "df = pd.read_pickle(\"../data/processed/mat-2-data/chunk_0000.pkl.zstd\")\n",
    "df.head()"
   ]
  }
 ],
 "metadata": {
  "kernelspec": {
   "display_name": "amiyaguchi3",
   "language": "python",
   "name": "python3"
  },
  "language_info": {
   "codemirror_mode": {
    "name": "ipython",
    "version": 3
   },
   "file_extension": ".py",
   "mimetype": "text/x-python",
   "name": "python",
   "nbconvert_exporter": "python",
   "pygments_lexer": "ipython3",
   "version": "3.8.10"
  }
 },
 "nbformat": 4,
 "nbformat_minor": 2
}
